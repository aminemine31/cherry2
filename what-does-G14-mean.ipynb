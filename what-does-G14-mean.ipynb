{
 "cells": [
  {
   "cell_type": "code",
   "execution_count": 26,
   "id": "283cfeb6",
   "metadata": {},
   "outputs": [
    {
     "name": "stderr",
     "output_type": "stream",
     "text": [
      "/var/folders/8f/5fx_0z8s6bv_0tb_tmhs7pk00000gn/T/ipykernel_34159/911933074.py:10: DeprecationWarning: Please use `mode` from the `scipy.stats` namespace, the `scipy.stats.stats` namespace is deprecated.\n",
      "  from scipy.stats.stats import mode\n"
     ]
    }
   ],
   "source": [
    "import numpy as np\n",
    "import matplotlib.pyplot as plt\n",
    "import matplotlib.cm as cm\n",
    "import os\n",
    "#import requests\n",
    "import pandas as pd\n",
    "from skimage import morphology\n",
    "from skimage.color import rgb2hsv\n",
    "from scipy.spatial.distance import cdist\n",
    "from scipy.stats.stats import mode\n",
    "from PIL import Image\n",
    "from collections import Counter\n",
    "import cv2\n",
    "from sklearn.model_selection import train_test_split\n",
    "from sklearn.neighbors import KNeighborsClassifier\n",
    "from sklearn.metrics import accuracy_score\n",
    "from sklearn.metrics import average_precision_score\n",
    "#import seaborn as sns\n",
    "\n",
    "import concurrent.futures"
   ]
  },
  {
   "cell_type": "code",
   "execution_count": 13,
   "id": "7cb8835b",
   "metadata": {},
   "outputs": [],
   "source": [
    "# from sklearn.datasets import load_files\n",
    "\n",
    "# data_folder_path = '/Users/nuvanjanashashipraba/Desktop/Images'\n",
    "# my_data = load_files(data_folder_path, categories =['folder1', 'folder2', 'folder3'])\n"
   ]
  },
  {
   "cell_type": "code",
   "execution_count": 78,
   "id": "572ba32e",
   "metadata": {},
   "outputs": [
    {
     "ename": "FileNotFoundError",
     "evalue": "[Errno 2] No such file or directory: '/Users/nuvanjanashashipraba/Desktop/Github/cherry2/processed_images'",
     "output_type": "error",
     "traceback": [
      "\u001b[0;31m---------------------------------------------------------------------------\u001b[0m",
      "\u001b[0;31mFileNotFoundError\u001b[0m                         Traceback (most recent call last)",
      "Cell \u001b[0;32mIn[78], line 6\u001b[0m\n\u001b[1;32m      2\u001b[0m \u001b[39mfrom\u001b[39;00m \u001b[39mPIL\u001b[39;00m \u001b[39mimport\u001b[39;00m Image\n\u001b[1;32m      4\u001b[0m image \u001b[39m=\u001b[39m \u001b[39m'\u001b[39m\u001b[39m/Users/nuvanjanashashipraba/Desktop/Github/cherry2/processed_images\u001b[39m\u001b[39m'\u001b[39m\n\u001b[0;32m----> 6\u001b[0m \u001b[39mfor\u001b[39;00m filename \u001b[39min\u001b[39;00m os\u001b[39m.\u001b[39;49mlistdir(image):\n\u001b[1;32m      7\u001b[0m     \u001b[39mif\u001b[39;00m filename\u001b[39m.\u001b[39mendswith(\u001b[39m'\u001b[39m\u001b[39m.jpg\u001b[39m\u001b[39m'\u001b[39m) \u001b[39mor\u001b[39;00m filename\u001b[39m.\u001b[39mendswith(\u001b[39m'\u001b[39m\u001b[39m.png\u001b[39m\u001b[39m'\u001b[39m):\n\u001b[1;32m      8\u001b[0m         img_path \u001b[39m=\u001b[39m os\u001b[39m.\u001b[39mpath\u001b[39m.\u001b[39mjoin(image, filename)\n",
      "\u001b[0;31mFileNotFoundError\u001b[0m: [Errno 2] No such file or directory: '/Users/nuvanjanashashipraba/Desktop/Github/cherry2/processed_images'"
     ]
    }
   ],
   "source": [
    "import os\n",
    "from PIL import Image\n",
    "# \n",
    "\n",
    "image = '/Users/nuvanjanashashipraba/Desktop/Github/cherry2/processed_images'\n",
    "\n",
    "for filename in os.listdir(image):\n",
    "    if filename.endswith('.jpg') or filename.endswith('.png'):\n",
    "        img_path = os.path.join(image, filename)\n",
    "        img = Image.open(img_path)\n",
    "    "
   ]
  },
  {
   "cell_type": "code",
   "execution_count": null,
   "id": "015c536a",
   "metadata": {},
   "outputs": [],
   "source": []
  },
  {
   "cell_type": "code",
   "execution_count": 28,
   "id": "539280ef",
   "metadata": {},
   "outputs": [],
   "source": [
    "def asymmetry_extraction(image):\n",
    "    #01.read the image using the Matplotlib library \n",
    "    image = plt.imread(image)\n",
    "\n",
    "    #02.Crop the image : this is done by finding the indices of the non zero elements(pixels with non zero intensity values)\n",
    "    #in order to do that,here we use np.nonezero from the numpy library \n",
    "    #center of the  shape is the center of the image\n",
    "    #the boarders of the shape are the boaders of the image\n",
    "    y_nonzero, x_nonzero = np.nonzero(image)\n",
    "    image = image[np.min(y_nonzero):np.max(y_nonzero), np.min(x_nonzero):np.max(x_nonzero)] #slice the image to include only the non zero regions\n",
    "\n",
    "    #03.Cut the image in halves\n",
    "    #04.Find the point of cutoff\n",
    "    height, width = image.shape\n",
    "    cutoff_of_width = width//2\n",
    "    cutoff_of_height  = height // 2\n",
    "\n",
    "    #05.Cut the image vertically and horizontally in two\n",
    "    vertical1_im = image[:,:cutoff_of_width]\n",
    "    vertical2_im = image[:,cutoff_of_width:]\n",
    "    horizontal1_im = image[:cutoff_of_height,:]\n",
    "    horizontal2_im = image[cutoff_of_height:,:]\n",
    "\n",
    "    #Simply put, in step 03, 04 and 05, cuts the cropped image into four sections: top, bottom , left and right.\n",
    "    #This is done by dividing the width and height of the image by 2 and using the resulting values to slice the image horizontally and vertically\n",
    "\n",
    "\n",
    "    #06.Flip one of the images both vertically and horizontally to create mirror images for each of the four sections.\n",
    "    # This is done by NumPy array indexing with negative  step size to reverse the order of elements along the specified axis. \n",
    "    vertical_indexer = [slice(None)]*vertical2_im.ndim\n",
    "    horizontal_indexer = [slice(None)]*horizontal2_im.ndim\n",
    "    #Here, slice(None) creates a slice object that includes all elements along the specified axis, and imVertical2.ndim and imHorizontal2.ndim retrun the number of dimensions of the respective arrays.\n",
    "    #create two lists of slice objects with the same lenght as the number of dimesnions of the corresponding arrays.\n",
    "\n",
    "\n",
    "\n",
    "    vertical_indexer[1]= slice(None,None, -1)\n",
    "    vertical_indexer[0]=slice(None, None,-1)\n",
    "    #modify the slice objects in the second position  of each list to include all elements alng the corresponding axis in reverse order, using the -1 step size.\n",
    "    #This flips the array along that axis effectively\n",
    "\n",
    "\n",
    "\n",
    "    vertical2_im = vertical2_im[tuple(vertical_indexer)]\n",
    "    horizontal2_im = horizontal2_im[tuple(horizontal_indexer)]\n",
    "    #convert each list of slice objects to tuple and use it for NumPy indexing to obtain the flipped images.\n",
    "\n",
    "\n",
    "\n",
    "    #07. if the images don't have the same shape, cut the biggest image\n",
    "    #This can happen if the shape of the original shape was an odd number\n",
    "    vertical2_im =vertical2_im[0:vertical1_im.shape[0], 0:vertical1_im.shape[1]]\n",
    "    horizontal2_im = horizontal2_im[0:horizontal1_im.shape[0], 0:horizontal1_im.shape[1]]\n",
    "\n",
    "    im_bwx_vertical = cv2.bitwise_xor(vertical1_im,vertical2_im)\n",
    "    im_bwx_horizontal = cv2.bitwise_xor(horizontal1_im, horizontal2_im)\n",
    "\n",
    "    vertical_area = np.sum(im_bwx_vertical ==1)\n",
    "    horizontal_area= np.sum(im_bwx_horizontal==1)\n",
    "    mean_area = (vertical_area + horizontal_area) //2\n",
    "    #np.sum is used to count the number of white pixels in each binary image im_bwx_vertical and im_bwx_horizontal. \n",
    "    #This count is performed using the logical expresion im_bwx_vertical == 1 and im_bwx_horizontal == 1 respectively. The expression returns a Boolean array that is True where the value of im_bwx_vertical or im_bwx_horizontal is equal to 1, and False elsewhere. The np.sum() function then counts the number of True values in the array and returns the total count of white pixels in each image.\n",
    "\n",
    "\n",
    "    #Here, the asymmetry level is calculated as a percentage of the non zero pixels  in the overlapped image over the lesion area\n",
    "    return(mean_area/np.sum(im==1))*100\n",
    "    #np.sum(im==1) is used to count the toatal number of non zero( while) pixels in the original image\n",
    "    #(mean_area/np.sum(im==1))*100 calculates the asymmetry level of the  input image as a percentage.\n",
    "    #the numerator is the average area of asymmetry  between two halves of the input image, in pixels.\n",
    "    # The denominator us the total number of non zero pixels in the input image.\n",
    "    #The result is  then multiplied by 100  to convert the values in to percentage.\n",
    "\n",
    "\n",
    "\n",
    "\n",
    "\n",
    "\n",
    " \n",
    "\n",
    "\n",
    "\n",
    "\n",
    "    \n",
    "\n"
   ]
  },
  {
   "cell_type": "code",
   "execution_count": 29,
   "id": "bb902787",
   "metadata": {},
   "outputs": [],
   "source": [
    "def perimeter_area(im):\n",
    "    image = plt.imread(im)\n",
    "    mask = image.copy() #creates a copy of the original image, which will be used to create a binary mask\n",
    "    area = np.sum(mask) #calculates the area of the lesion by summing the values of all pixels in the binary mask\n",
    "    struct_el = morphology.disk(1) #cretaes  a disk shaped structuring element with a radius of 1, which wil be used for binary erosion.\n",
    "    #Binary erosion is a morphological operation used in image processing to reduce the size of foreground objects(usually represented as white pixels) and eliminate isolated pixels or small components\n",
    "    #The operation is performed by sliding a small binary structuring element (also known as kernel or mask) over the image and checking if all the pixels in the element match the corresponding pixels in the image.\n",
    "    #If there is at least one mismatch, the pixel in the center of the structuring element is set to 0 (black), otherwise it is set to 1 (white).\n",
    "    #As a result, the foreground pixels in the input image that are not completely covered by the structuring element are removed in the output image.\n",
    "    # The size of the foreground objects is thus reduced, while their shape is preserved as much as possible.\n",
    "    #The process is repeated iteratively until the foreground objects can no longer be further reduced, or until a desired level of erosion has been achieved.\n",
    "    mask_eroded = morphology.binary_erosion(mask, struct_el) #erodes the binary mask using the strucutring element, resulting in a new binary mask with the same shape as the original mask but with the edges erroded.\n",
    "    image_perimeter = mask - mask_eroded  #subtracts the eroded mask from the original mask to obtain an image that contains only the perimeter of the lesion.\n",
    "    perimeter = np.sum(image_perimeter) #caculates the perimeter of the lesion by summing the values of all pixels in the perimeter image.\n",
    "    return [area, perimeter] \n"
   ]
  },
  {
   "attachments": {},
   "cell_type": "markdown",
   "id": "e30e857b",
   "metadata": {},
   "source": [
    "### Splitting the dataset for training and testing data "
   ]
  },
  {
   "cell_type": "code",
   "execution_count": 77,
   "id": "58d8e0fd",
   "metadata": {},
   "outputs": [
    {
     "ename": "FileNotFoundError",
     "evalue": "[Errno 2] No such file or directory: '/Users/nuvanjanashashipraba/Desktop/processed_images'",
     "output_type": "error",
     "traceback": [
      "\u001b[0;31m---------------------------------------------------------------------------\u001b[0m",
      "\u001b[0;31mFileNotFoundError\u001b[0m                         Traceback (most recent call last)",
      "Cell \u001b[0;32mIn[77], line 6\u001b[0m\n\u001b[1;32m      3\u001b[0m \u001b[39mfrom\u001b[39;00m \u001b[39msklearn\u001b[39;00m\u001b[39m.\u001b[39;00m\u001b[39mdatasets\u001b[39;00m \u001b[39mimport\u001b[39;00m load_files\n\u001b[1;32m      5\u001b[0m data_folder_path \u001b[39m=\u001b[39m \u001b[39m'\u001b[39m\u001b[39m/Users/nuvanjanashashipraba/Desktop/processed_images\u001b[39m\u001b[39m'\u001b[39m\n\u001b[0;32m----> 6\u001b[0m my_data \u001b[39m=\u001b[39m load_files(data_folder_path, categories \u001b[39m=\u001b[39;49m[\u001b[39m'\u001b[39;49m\u001b[39mfolder1\u001b[39;49m\u001b[39m'\u001b[39;49m, \u001b[39m'\u001b[39;49m\u001b[39mfolder2\u001b[39;49m\u001b[39m'\u001b[39;49m, \u001b[39m'\u001b[39;49m\u001b[39mfolder3\u001b[39;49m\u001b[39m'\u001b[39;49m]) \u001b[39m# loading the data from the folder path specified in step 3 and categorizing them into tthree folders\u001b[39;00m\n\u001b[1;32m      8\u001b[0m X \u001b[39m=\u001b[39m my_data\u001b[39m.\u001b[39mdata \u001b[39m#assigning the image data to X\u001b[39;00m\n\u001b[1;32m      9\u001b[0m Y \u001b[39m=\u001b[39m my_data\u001b[39m.\u001b[39mtarget \u001b[39m#assigning the target labels to Y\u001b[39;00m\n",
      "File \u001b[0;32m/Library/Frameworks/Python.framework/Versions/3.10/lib/python3.10/site-packages/sklearn/datasets/_base.py:219\u001b[0m, in \u001b[0;36mload_files\u001b[0;34m(container_path, description, categories, load_content, shuffle, encoding, decode_error, random_state, allowed_extensions)\u001b[0m\n\u001b[1;32m    215\u001b[0m target_names \u001b[39m=\u001b[39m []\n\u001b[1;32m    216\u001b[0m filenames \u001b[39m=\u001b[39m []\n\u001b[1;32m    218\u001b[0m folders \u001b[39m=\u001b[39m [\n\u001b[0;32m--> 219\u001b[0m     f \u001b[39mfor\u001b[39;00m f \u001b[39min\u001b[39;00m \u001b[39msorted\u001b[39m(listdir(container_path)) \u001b[39mif\u001b[39;00m isdir(join(container_path, f))\n\u001b[1;32m    220\u001b[0m ]\n\u001b[1;32m    222\u001b[0m \u001b[39mif\u001b[39;00m categories \u001b[39mis\u001b[39;00m \u001b[39mnot\u001b[39;00m \u001b[39mNone\u001b[39;00m:\n\u001b[1;32m    223\u001b[0m     folders \u001b[39m=\u001b[39m [f \u001b[39mfor\u001b[39;00m f \u001b[39min\u001b[39;00m folders \u001b[39mif\u001b[39;00m f \u001b[39min\u001b[39;00m categories]\n",
      "\u001b[0;31mFileNotFoundError\u001b[0m: [Errno 2] No such file or directory: '/Users/nuvanjanashashipraba/Desktop/processed_images'"
     ]
    }
   ],
   "source": [
    "#training and testing data : trying to split the data set into training data and  testing data\n",
    "import matplotlib.pyplot as plot\n",
    "from sklearn.datasets import load_files\n",
    "\n",
    "data_folder_path = '/Users/nuvanjanashashipraba/Desktop/processed_images'\n",
    "my_data = load_files(data_folder_path, categories =['folder1', 'folder2', 'folder3']) # loading the data from the folder path specified in step 3 and categorizing them into tthree folders\n",
    "\n",
    "X = my_data.data #assigning the image data to X\n",
    "Y = my_data.target #assigning the target labels to Y\n",
    "\n",
    "# from sklearn.model_selection import train_test_split #importing the train_test_split function from the sklearn.model _slection library for splitting the data into trainin and testing sets.\n",
    "X_train, X_test, Y_train, Y_test = train_test_split(X,Y, test_size = 0.2, random_state = 2, stratify=Y) #add the starfier\n",
    "# #splitting the data into training and testing sets, with 20% of the data set aside for testing and setting the random state for reproducibility.\n",
    "#The resulting four variables represent the training and testing data for both the image data.\n",
    "\n",
    "#print(\"The dimensions of the features of training data \")\n",
    "#print(X_train.shape)\n",
    "#print(\"The dimensions of the features of test data \")\n",
    "#print(X_test.shape)\n",
    "#print(\"The dimensions of the target values of training data \")\n",
    "#print(Y_train.shape)\n",
    "#print(\"The dimensions of the target values of test data \")\n",
    "#print(Y_test.shape)"
   ]
  },
  {
   "cell_type": "code",
   "execution_count": 30,
   "id": "9cd1ff5a",
   "metadata": {},
   "outputs": [],
   "source": [
    "def knn_prediction(k, train, classes, test): #classes : the class labels of the training data.\n",
    "    neighb = KNeighborsClassifier(n_neighbors= k)\n",
    "    neighb.fit(train, classes.ravel())\n",
    "    classes_pred = neighb.predict(test)\n",
    "    return classes_pred"
   ]
  },
  {
   "cell_type": "code",
   "execution_count": 31,
   "id": "cac41648",
   "metadata": {},
   "outputs": [],
   "source": [
    "def accuracy_test(k,train,classes,test,classes_test):\n",
    "    performance = []\n",
    "    perform1 =[]\n",
    "    #the 'performance' list stores the predicted lables for each value of k\n",
    "    #the 'perform1' list stores the accuracy score for each value of k\n",
    "\n",
    "    for i in range(1,k):\n",
    "        a = make_knn_prediction(i,train,classes,test)\n",
    "        performance.append(a)\n",
    "        for j in performance:\n",
    "            b = accuracy_score(classes_test,j) #'accuracy_score' is function from scikit learn \n",
    "        perform1.append(b)\n",
    "    fig, axes = plt.subplots()\n",
    "    axes.plot(perform1)\n",
    "    plt.title(\"Classification Accuracy of KNN for Different Values of k\")\n",
    "    plt.ylabel(\"Test Accuracy\")\n",
    "    plt.xlabel(\"Value of k\");\n",
    "    plt.grid(color='grey', linestyle='--', linewidth=0.5)\n",
    "    return np.mean(perform1)"
   ]
  }
 ],
 "metadata": {
  "kernelspec": {
   "display_name": "Python 3",
   "language": "python",
   "name": "python3"
  },
  "language_info": {
   "codemirror_mode": {
    "name": "ipython",
    "version": 3
   },
   "file_extension": ".py",
   "mimetype": "text/x-python",
   "name": "python",
   "nbconvert_exporter": "python",
   "pygments_lexer": "ipython3",
   "version": "3.10.6"
  }
 },
 "nbformat": 4,
 "nbformat_minor": 5
}
