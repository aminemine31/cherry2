{
 "cells": [
  {
   "cell_type": "code",
   "execution_count": 5,
   "metadata": {},
   "outputs": [
    {
     "name": "stderr",
     "output_type": "stream",
     "text": [
      "/var/folders/8f/5fx_0z8s6bv_0tb_tmhs7pk00000gn/T/ipykernel_29495/911933074.py:10: DeprecationWarning: Please use `mode` from the `scipy.stats` namespace, the `scipy.stats.stats` namespace is deprecated.\n",
      "  from scipy.stats.stats import mode\n"
     ]
    }
   ],
   "source": [
    "import numpy as np\n",
    "import matplotlib.pyplot as plt\n",
    "import matplotlib.cm as cm\n",
    "import os\n",
    "#import requests\n",
    "import pandas as pd\n",
    "from skimage import morphology\n",
    "from skimage.color import rgb2hsv\n",
    "from scipy.spatial.distance import cdist\n",
    "from scipy.stats.stats import mode\n",
    "from PIL import Image\n",
    "from collections import Counter\n",
    "import cv2\n",
    "from sklearn.model_selection import train_test_split\n",
    "from sklearn.neighbors import KNeighborsClassifier\n",
    "from sklearn.metrics import accuracy_score\n",
    "from sklearn.metrics import average_precision_score\n",
    "#import seaborn as sns\n",
    "\n",
    "import concurrent.futures"
   ]
  },
  {
   "cell_type": "code",
   "execution_count": null,
   "id": "6b4be898",
   "metadata": {},
   "outputs": [],
   "source": [
    "#Importing the data into the notebook\n",
    "image_folder = \n",
    "segmented_image_folder = \n",
    "features  = "
   ]
  },
  {
   "cell_type": "code",
   "execution_count": null,
   "id": "5b22d890",
   "metadata": {},
   "outputs": [],
   "source": [
    "image_files =\n",
    "segmented_image_file= \n"
   ]
  },
  {
   "cell_type": "code",
   "execution_count": null,
   "id": "c26196d8",
   "metadata": {},
   "outputs": [],
   "source": [
    "#Color_extraction\n"
   ]
  },
  {
   "attachments": {},
   "cell_type": "markdown",
   "id": "e99e04bf",
   "metadata": {},
   "source": []
  },
  {
   "cell_type": "code",
   "execution_count": null,
   "id": "16164cef",
   "metadata": {},
   "outputs": [],
   "source": []
  },
  {
   "cell_type": "code",
   "execution_count": null,
   "id": "f403eea5",
   "metadata": {},
   "outputs": [],
   "source": []
  },
  {
   "cell_type": "code",
   "execution_count": null,
   "id": "539280ef",
   "metadata": {},
   "outputs": [],
   "source": [
    "def asymmetry_extraction(image):\n",
    "    #01.read the image using the Matplotlib library \n",
    "    image = plt.imread(image)\n",
    "\n",
    "    #02.Crop the image : this is done by finding the indices of the non zero elements(pixels with non zero intensity values)\n",
    "    #in order to do that,here we use np.nonezero from the numpy library \n",
    "    #center of the  shape is the center of the image\n",
    "    #the boarders of the shape are the boaders of the image\n",
    "    y_nonzero, x_nonzero = np.nonzero(image)\n",
    "    image = image[np.min(y_nonzero):np.max(y_nonzero), np.min(x_nonzero):np.max(x_nonzero)] #slice the image to include only the non zero regions\n",
    "\n",
    "    #03.Cut the image in halves\n",
    "    #04.Find the point of cutoff\n",
    "    height, width = image.shape\n",
    "    cutoff_of_width = width//2\n",
    "    cutoff_of_height  = height // 2\n",
    "\n",
    "    #05.Cut the image vertically and horizontally in two\n",
    "    vertical1_im = image[:,:cutoff_of_width]\n",
    "    vertical2_im = image[:,cutoff_of_width:]\n",
    "    horizontal1_im = image[:cutoff_of_height,:]\n",
    "    horizontal2_im = image[cutoff_of_height:,:]\n",
    "\n",
    "    #Simply put, in step 03, 04 and 05, cuts the cropped image into four sections: top, bottom , left and right.\n",
    "    #This is done by dividing the width and height of the image by 2 and using the resulting values to slice the image horizontally and vertically\n",
    "\n",
    "\n",
    "    #06.Flip one of the images both vertically and horizontally to create mirror images for each of the four sections.\n",
    "    # This is done by NumPy array indexing with negative  step size to reverse the order of elements along the specified axis. \n",
    "    vertical_indexer = [slice(None)]*vertical2_im.ndim\n",
    "    horizontal_indexer = [slice(None)]*horizontal2_im.ndim\n",
    "    #Here, slice(None) creates a slice object that includes all elements along the specified axis, and imVertical2.ndim and imHorizontal2.ndim retrun the number of dimensions of the respective arrays.\n",
    "    #create two lists of slice objects with the same lenght as the number of dimesnions of the corresponding arrays.\n",
    "\n",
    "\n",
    "\n",
    "\n",
    "\n",
    "    vertical_indexer[1]= slice(None,None, -1)\n",
    "    vertical_indexer[0]=slice(None, None,-1)\n",
    "    #modify the slice objects in the second position  of each list to include all elements alng the corresponding axis in reverse order, using the -1 step size.\n",
    "    #This flips the array along that axis effectively\n",
    "\n",
    "\n",
    "\n",
    "    vertical2_im = vertical2_im[tuple(vertical_indexer)]\n",
    "    horizontal2_im = horizontal2_im[tuple(horizontal_indexer)]\n",
    "    #convert each list of slice objects to tuple and use it for NumPy indexing to obtain the flipped images.\n",
    "\n",
    "\n",
    "\n",
    "    #07. if the images don't have the same shape, cut the biggest image\n",
    "    #This can happen if the shape of the original shape was an odd number\n",
    "    vertical2_im =vertical2_im[0:vertical1_im.shape[0], 0:vertical1_im.shape[1]]\n",
    "    horizontal2_im = horizontal2_im[0:horizontal1_im.shape[0], 0:horizontal1_im.shape[1]]\n",
    "\n",
    "    im_bwx_vertical = cv2.bitwise_xor(vertical1_im,vertical2_im)\n",
    "    im_bwx_horizontal = cv2.bitwise_xor(horizontal1_im, horizontal2_im)\n",
    "\n",
    "    vertical_area = np.sum(im_bwx_vertical ==1)\n",
    "    horizontal_area= np.sum(im_bwx_horizontal==1)\n",
    "    mean_area = (vertical_area + horizontal_area) //2\n",
    "    #np.sum is used to count the number of white pixels in each binary image im_bwx_vertical and im_bwx_horizontal. \n",
    "    #This count is performed using the logical expresion im_bwx_vertical == 1 and im_bwx_horizontal == 1 respectively. The expression returns a Boolean array that is True where the value of im_bwx_vertical or im_bwx_horizontal is equal to 1, and False elsewhere. The np.sum() function then counts the number of True values in the array and returns the total count of white pixels in each image.\n",
    "\n",
    "\n",
    "    #Here, the asymmetry level is calculated as a percentage of the non zero pixels  in the overlapped image over the lesion area\n",
    "    return(mean_area/np.sum(im==1))*100\n",
    "    #np.sum(im==1) is used to count the toatal number of non zero( while) pixels in the original image\n",
    "    #(mean_area/np.sum(im==1))*100 calculates the asymmetry level of the  input image as a percentage.\n",
    "    #the numerator is the average area of asymmetry  between two halves of the input image, in pixels.\n",
    "    # The denominator us the total number of non zero pixels in the input image.\n",
    "    #The result is  then multiplied by 100  to convert the values in to percentage.\n",
    "\n",
    "\n",
    "\n",
    "\n",
    "\n",
    "\n",
    " \n",
    "\n",
    "\n",
    "\n",
    "\n",
    "    \n",
    "\n"
   ]
  },
  {
   "cell_type": "code",
   "execution_count": null,
   "id": "bb902787",
   "metadata": {},
   "outputs": [],
   "source": [
    "def perimeter_area(im):\n",
    "    image = plt.imread(im)\n",
    "    mask = image.copy() #creates a copy of the original image, which will be used to create a binary mask\n",
    "    area = np.sum(mask) #calculates the area of the lesion by summing the values of all pixels in the binary mask\n",
    "    struct_el = morphology.disk(1) #cretaes  a disk shaped structuring element with a radius of 1, which wil be used for binary erosion.\n",
    "    #Binary erosion is a morphological operation used in image processing to reduce the size of foreground objects(usually represented as white pixels) and eliminate isolated pixels or small components\n",
    "    #The operation is performed by sliding a small binary structuring element (also known as kernel or mask) over the image and checking if all the pixels in the element match the corresponding pixels in the image.\n",
    "    #If there is at least one mismatch, the pixel in the center of the structuring element is set to 0 (black), otherwise it is set to 1 (white).\n",
    "    #As a result, the foreground pixels in the input image that are not completely covered by the structuring element are removed in the output image.\n",
    "    # The size of the foreground objects is thus reduced, while their shape is preserved as much as possible.\n",
    "    #The process is repeated iteratively until the foreground objects can no longer be further reduced, or until a desired level of erosion has been achieved.\n",
    "    mask_eroded = morphology.binary_erosion(mask, struct_el) #erodes the binary mask using the strucutring element, resulting in a new binary mask with the same shape as the original mask but with the edges erroded.\n",
    "    image_perimeter = mask - mask_eroded  #subtracts the eroded mask from the original mask to obtain an image that contains only the perimeter of the lesion.\n",
    "    perimeter = np.sum(image_perimeter) #caculates the perimeter of the lesion by summing the values of all pixels in the perimeter image.\n",
    "    return [area, perimeter] \n"
   ]
  },
  {
   "cell_type": "code",
   "execution_count": null,
   "id": "58d8e0fd",
   "metadata": {},
   "outputs": [],
   "source": [
    "#training and testing data : trying to split the data set into training data and  testing data\n",
    "# import matplotlib.pyplot as plot\n",
    "# from sklearn.datasets import load_files\n",
    "\n",
    "# data_folder_path = '/Users/nuvanjanashashipraba/Desktop/Images'\n",
    "# my_data = load_files(data_folder_path, categories =['folder1', 'folder2', 'folder3']) # loading the data from the folder path specified in step 3 and categorizing them into tthree folders\n",
    "\n",
    "# X = my_data.data #assigning the image data to X\n",
    "# Y = my_data.target #assigning the target labels to Y\n",
    "\n",
    "# from sklearn.model_selection import train_test_split #importing the train_test_split function from the sklearn.model _slection library for splitting the data into trainin and testing sets.\n",
    "# X_train, X_test, Y_train, Y_test = train_test_split(X,Y, test_size = 0.2, random_state = 2)\n",
    "# #splitting the data into training and testing sets, with 20% of the data set aside for testing and setting the random state for reproducibility.\n",
    "#The resulting four variables represent the training and testing data for both the image data.\n",
    "\n",
    "#print(\"The dimensions of the features of training data \")\n",
    "#print(X_train.shape)\n",
    "#print(\"The dimensions of the features of test data \")\n",
    "#print(X_test.shape)\n",
    "#print(\"The dimensions of the target values of training data \")\n",
    "#print(Y_train.shape)\n",
    "#print(\"The dimensions of the target values of test data \")\n",
    "#print(Y_test.shape)"
   ]
  },
  {
   "cell_type": "code",
   "execution_count": null,
   "id": "9cd1ff5a",
   "metadata": {},
   "outputs": [],
   "source": [
    "def knn_prediction(k, train, classes, test): #classes : the class labels of the training data.\n",
    "    neighb = KNeighborsClassifier(n_neighbors= k)\n",
    "    neighb.fit(train, classes.ravel())\n",
    "    classes_pred = neighb.predict(test)\n",
    "    return classes_pred"
   ]
  },
  {
   "cell_type": "code",
   "execution_count": null,
   "id": "cac41648",
   "metadata": {},
   "outputs": [],
   "source": [
    "def accuracy_test(k,train,classes,test,classes_test):\n",
    "    performance = []\n",
    "    perform1 =[]\n",
    "    #the 'performance' list stores the predicted lables for each value of k\n",
    "    #the 'perform1' list stores the accuracy score for each value of k\n",
    "\n",
    "    for i in range(1,k):\n",
    "        a = make_knn_prediction(i,train,classes,test)\n",
    "        performance.append(a)\n",
    "        for j in performance:\n",
    "            b = accuracy_score(classes_test,j) #'accuracy_score' is function from scikit learn \n",
    "        perform1.append(b)\n",
    "    fig, axes = plt.subplots()\n",
    "    axes.plot(perform1)\n",
    "    plt.title(\"Classification Accuracy of KNN for Different Values of k\")\n",
    "    plt.ylabel(\"Test Accuracy\")\n",
    "    plt.xlabel(\"Value of k\");\n",
    "    plt.grid(color='grey', linestyle='--', linewidth=0.5)\n",
    "    return np.mean(perform1)"
   ]
  },
  {
   "attachments": {},
   "cell_type": "markdown",
   "id": "a672c997",
   "metadata": {},
   "source": [
    "### Splittting the data set for the color"
   ]
  },
  {
   "cell_type": "code",
   "execution_count": null,
   "id": "84225b6a",
   "metadata": {},
   "outputs": [],
   "source": [
    "color_data = df_features_extra[\"Nb_of_colors\"].to_numpy() # what is the df_features_extra in our case? what is the \"Nb_of-colours\" in our case?\n",
    "#df_features = the name of the csv or the varibale name that you used to read the csv file or the data set\n",
    "#because our data set is not a csv  file, can we just write: name of the dataset.to_numpy()\n",
    "\n",
    "color_train, color_test, clas_train, clas_test = train_test_split(color_data, clas, test_size = 0.6, random_state= 4)\n",
    "\n",
    "color_train = color_train. reshape(-1, 1)\n",
    "clas_train = clas_train.reshape (-1, 1)\n",
    "color_test = color_test.reshape( -1, 1)"
   ]
  },
  {
   "cell_type": "code",
   "execution_count": null,
   "id": "0a0b2aee",
   "metadata": {},
   "outputs": [],
   "source": [
    "print(knn_prediction(7, color_train, clas_train, color_test))\n",
    "print(clas_test)"
   ]
  },
  {
   "cell_type": "code",
   "execution_count": null,
   "id": "cec75f99",
   "metadata": {},
   "outputs": [],
   "source": [
    "accuracy_test(380,color_train, clas_train, color_test, clas_test)"
   ]
  },
  {
   "attachments": {},
   "cell_type": "markdown",
   "id": "ea7f3045",
   "metadata": {},
   "source": [
    "### Splitting the data set for the Saturation "
   ]
  },
  {
   "cell_type": "code",
   "execution_count": null,
   "id": "b5acb5f9",
   "metadata": {},
   "outputs": [],
   "source": [
    "sat_data = df_features_extra[\"sat_value\"].to_numpy()\n",
    "sat_train, sat_test, clas_train, clas_test = train_test_split(sat_data,clas,test_size=0.6, random_state=4)\n",
    "\n",
    "sat_train = sat_train,reshape(-1,1)\n",
    "clas_train = clas_train.reshape(-1,1)\n",
    "sat_test = sat_test.reshape(-1,1)\n"
   ]
  },
  {
   "cell_type": "code",
   "execution_count": null,
   "id": "8345d502",
   "metadata": {},
   "outputs": [],
   "source": [
    "print(knn_prediction(7,sat_train, clas_train,sat_test))\n",
    "print(clas_test)"
   ]
  },
  {
   "cell_type": "code",
   "execution_count": null,
   "id": "a26007a0",
   "metadata": {},
   "outputs": [],
   "source": [
    "accuracy_test(150, sat_train,clas_train,sat_test,clas_test)\n"
   ]
  },
  {
   "attachments": {},
   "cell_type": "markdown",
   "id": "6e936baf",
   "metadata": {},
   "source": [
    "### Splitting the data set for the Asymmetry"
   ]
  },
  {
   "cell_type": "code",
   "execution_count": null,
   "id": "bc07327b",
   "metadata": {},
   "outputs": [],
   "source": [
    "#Splittng the data set for the Asymmetry\n",
    "aymmetry_data =df_features_extra [\"Aymmetry\"].to_numpy() #but what is the df_features_extra in our case? # what is the \"Asymmetry\" in our case.\n",
    "#df_features = the name of the csv or the varibale name that you used to read the csv file or the data set\n",
    "#because our data set is not a csv  file, can we just write: name of the dataset.to_numpy()\n",
    "asymmetry_train = asymmetry_test, clas_train, clas_test = train_test_split(asymmetry_data, clas, test_size = 0.6, random_state= 4)\n",
    "asymmetry_train = asymmetry_train.reshape(-1,1)\n",
    "clas_train = clas_train.reshape(-1, 1)\n",
    "asymmetry_test = asymmetry_test.reshape(-1,1)"
   ]
  },
  {
   "cell_type": "code",
   "execution_count": null,
   "id": "5f324940",
   "metadata": {},
   "outputs": [],
   "source": [
    "print(knn_prediction(7,asymmetry_train, clas_train,asymmetry_test))\n",
    "print(clas_test)\n"
   ]
  },
  {
   "cell_type": "code",
   "execution_count": null,
   "id": "8ebd0178",
   "metadata": {},
   "outputs": [],
   "source": [
    "accuracy_test(800,asymmetry_train,clas_train,asymmetry_test.clas_test)\n"
   ]
  }
 ],
 "metadata": {
  "kernelspec": {
   "display_name": "Python 3",
   "language": "python",
   "name": "python3"
  },
  "language_info": {
   "codemirror_mode": {
    "name": "ipython",
    "version": 3
   },
   "file_extension": ".py",
   "mimetype": "text/x-python",
   "name": "python",
   "nbconvert_exporter": "python",
   "pygments_lexer": "ipython3",
   "version": "3.10.6"
  }
 },
 "nbformat": 4,
 "nbformat_minor": 5
}
