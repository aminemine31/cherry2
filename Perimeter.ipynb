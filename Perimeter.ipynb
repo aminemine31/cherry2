{
 "cells": [
  {
   "cell_type": "code",
   "execution_count": null,
   "metadata": {},
   "outputs": [],
   "source": [
    "from skimage import morphology\n",
    "\n",
    "mask1 = \"/Users/aminalykke/Documents/2nd_semester/First_Year_Project/Project2/25_Masked_lesions/PAT_39_55_233.png\"\n",
    "mask1= plt.imread(fmask1)\n",
    "\n",
    "#Structural element, that we will use as a \"brush\" on our mask\n",
    "struct_el = morphology.disk(3)\n",
    "\n",
    "# Use this \"brush\" to erode the image - eat away at the borders\n",
    "mask_eroded = morphology.binary_erosion(mask1, struct_el)\n",
    "\n",
    "# Show side by side (depending on brush size, you might not see a difference visually)\n",
    "fig, axes = plt.subplots(nrows=1, ncols=2, figsize=(5, 3))\n",
    "axes[0].imshow(mask1, cmap='gray')\n",
    "axes[1].imshow(mask_eroded, cmap='gray')\n",
    "fig.tight_layout()\n",
    "\n",
    "# Verify the new mask is smaller\n",
    "print(area)\n",
    "print(np.sum(mask_eroded)) #appears to be just a litlle smaller\n"
   ]
  }
 ],
 "metadata": {
  "language_info": {
   "name": "python"
  },
  "orig_nbformat": 4
 },
 "nbformat": 4,
 "nbformat_minor": 2
}
