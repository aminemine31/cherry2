{
 "cells": [
  {
   "cell_type": "code",
   "execution_count": null,
   "id": "4b39db69-b857-47c6-ab7a-8b02a6606e32",
   "metadata": {},
   "outputs": [],
   "source": [
    "import pandas as pd\n",
    "df = pd.read_csv(\"metadata.csv\") # Read in the data\n",
    "df.shape # see the shape of the dataframe\n"
   ]
  },
  {
   "cell_type": "code",
   "execution_count": null,
   "id": "f1b59965-5ca4-462f-906d-1aa55489fb9b",
   "metadata": {},
   "outputs": [],
   "source": [
    "new_df.isna().mean().round(4)*100 # Count percentage of rows with missing data for each column"
   ]
  },
  {
   "cell_type": "code",
   "execution_count": null,
   "id": "d5aa43a2-2e5f-4366-804a-e9ca688139c7",
   "metadata": {},
   "outputs": [],
   "source": [
    "df"
   ]
  },
  {
   "cell_type": "code",
   "execution_count": null,
   "id": "f0d1a973-e528-44a4-8579-13b6ba622774",
   "metadata": {},
   "outputs": [],
   "source": [
    "n_df = df[[\"smoke\", \"drink\"]] # Add true/false columns "
   ]
  },
  {
   "cell_type": "code",
   "execution_count": null,
   "id": "36a6bb95-59c9-4d66-8f2f-748c7938ed0e",
   "metadata": {},
   "outputs": [],
   "source": [
    "data = OneHotEncoder().fit_transform(df).toarray() # Encode the new dataframe as one hot encoding\n"
   ]
  }
 ],
 "metadata": {
  "kernelspec": {
   "display_name": "Python 3 (ipykernel)",
   "language": "python",
   "name": "python3"
  },
  "language_info": {
   "codemirror_mode": {
    "name": "ipython",
    "version": 3
   },
   "file_extension": ".py",
   "mimetype": "text/x-python",
   "name": "python",
   "nbconvert_exporter": "python",
   "pygments_lexer": "ipython3",
   "version": "3.9.12"
  }
 },
 "nbformat": 4,
 "nbformat_minor": 5
}
