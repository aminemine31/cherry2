{
 "cells": [
  {
   "cell_type": "code",
   "execution_count": null,
   "metadata": {},
   "outputs": [],
   "source": [
    "import numpy as np\n",
    "import matplotlib.pyplot as plt\n",
    "import matplotlib.cm as cm\n",
    "import os\n",
    "import requests\n",
    "import pandas as pd\n",
    "from skimage import morphology\n",
    "from skimage.color import rgb2hsv\n",
    "from scipy.spatial.distance import cdist\n",
    "from scipy.stats.stats import mode\n",
    "from PIL import Image\n",
    "from collections import Counter\n",
    "import cv2\n",
    "from sklearn.model_selection import train_test_split\n",
    "from sklearn.neighbors import KNeighborsClassifier\n",
    "from sklearn.metrics import accuracy_score\n",
    "from sklearn.metrics import average_precision_score\n",
    "import seaborn as sns\n",
    "\n",
    "import concurrent.futures"
   ]
  },
  {
   "cell_type": "code",
   "execution_count": null,
   "metadata": {},
   "outputs": [],
   "source": [
    "#step 1: import the data into the notebook\n",
    "image_folder = '../data/example_image/'\n",
    "segmentation_folder = '../data/example_segmentation/'\n",
    "ground_truth = '../data/example_ground_truth.csv'\n",
    "features = '../features/features.csv'"
   ]
  },
  {
   "cell_type": "code",
   "execution_count": null,
   "metadata": {},
   "outputs": [],
   "source": [
    "image_files = os.listdir(image_folder)\n",
    "segmentation_files = os.listdir(segmentation_folder)\n",
    "\n",
    "df_ground_truth = pd.read_csv(ground_truth)\n",
    "df_size_features = pd.read_csv(features)"
   ]
  },
  {
   "attachments": {},
   "cell_type": "markdown",
   "metadata": {},
   "source": [
    "<h4>Adding the extra dataset</h4>\n",
    "<p>They must be manually unzipped and placed under the data folder!!!</p>"
   ]
  },
  {
   "cell_type": "code",
   "execution_count": null,
   "metadata": {},
   "outputs": [],
   "source": [
    "url = 'https://isic-challenge-data.s3.amazonaws.com/2017/ISIC-2017_Training_Data.zip'\n",
    "r = requests.get(url , allow_redirects = True)\n",
    "open('ISIC-2017_Training_Data.zip', 'wb').write(r.content)"
   ]
  },
  {
   "cell_type": "code",
   "execution_count": null,
   "metadata": {},
   "outputs": [],
   "source": [
    "url = 'https://isic-challenge-data.s3.amazonaws.com/2017/ISIC-2017_Training_Part1_GroundTruth.zip'\n",
    "r = requests.get(url, allow_redirects=True)\n",
    "open('ISIC-2017_Validation_Part1_GroundTruth.zip', 'wb').write(r.content)"
   ]
  },
  {
   "cell_type": "code",
   "execution_count": null,
   "metadata": {},
   "outputs": [],
   "source": [
    "extra_image_folder = '../data/ISIC-2017_Training_Data/'\n",
    "extra_segmentation = '../data/ISIC-2017_Training_Part1_GroundTruth/'\n",
    "extra_ground_truth = '../data/ISIC-2017_Training_Part3_GroundTruth.csv'\n",
    "age_and_sex = '../features/ISIC-2017_Training_Data_metadata.csv'\n",
    "\n",
    "extra_images_files = os.listdir(extra_image_folder)\n",
    "extra_seg_files = os.listdir(extra_segmentation)\n",
    "df_extra_gt = pd.read_csv(extra_ground_truth)\n",
    "df_age_and_sex = pd.read_csv(age_and_sex)\n",
    "\n",
    "df_extra_gt = df_extra_gt.set_index('image_id')\n",
    "\n",
    "extra_keratosis_mask = df_extra_gt['seborrheic_keratosis']==1.0\n",
    "extra_melanoma_mask = df_extra_gt['melanoma']==1.0\n",
    "extra_healthy_mask = (df_extra_gt['seborrheic_keratosis']==0.0) & (df_extra_gt['melanoma']==0.0)\n",
    "\n",
    "extra_healthy_im = df_extra_gt.index[extra_healthy_mask].tolist()\n",
    "extra_melanoma_im = df_extra_gt.index[extra_melanoma_mask].tolist()\n",
    "extra_keratosis_im = df_extra_gt.index[extra_keratosis_mask].tolist()\n",
    "\n",
    "ex_keratosis = [] #path to all keratosis images\n",
    "ex_keratosis_seg = []\n",
    "for i in extra_keratosis_im:\n",
    "    ex_keratosis_path = os.path.join(extra_image_folder, i + '.jpg')\n",
    "    ex_keratosis_seg_path = os.path.join(extra_segmentation, i + '_segmentation.png')\n",
    "    ex_keratosis.append(ex_keratosis_path)\n",
    "    ex_keratosis_seg.append(ex_keratosis_seg_path)\n",
    "\n",
    "\n",
    "ex_melanoma = [] #paths to all melanoma images\n",
    "ex_melanoma_seg = []\n",
    "for i in extra_melanoma_im:\n",
    "    ex_melanoma_path = os.path.join(extra_image_folder, i + '.jpg')\n",
    "    ex_melanoma_seg_path = os.path.join(extra_segmentation, i + '_segmentation.png')\n",
    "    ex_melanoma.append(ex_melanoma_path)\n",
    "    ex_melanoma_seg.append(ex_melanoma_seg_path)\n",
    "\n",
    "\n",
    "ex_healthy = [] #paths to all healthy images\n",
    "ex_healthy_seg = []\n",
    "for i in extra_healthy_im:\n",
    "    ex_healthy_path = os.path.join(extra_image_folder, i + '.jpg')\n",
    "    ex_healthy_seg_path = os.path.join(extra_segmentation, i + '_segmentation.png')\n",
    "    ex_healthy.append(ex_healthy_path)\n",
    "    ex_healthy_seg.append(ex_healthy_seg_path)\n",
    "\n",
    "ex_final_keratosis = list(zip(ex_keratosis, ex_keratosis_seg))\n",
    "ex_final_melanoma = list(zip(ex_melanoma, ex_melanoma_seg))\n",
    "ex_final_healthy = list(zip(ex_healthy, ex_healthy_seg))"
   ]
  },
  {
   "attachments": {},
   "cell_type": "markdown",
   "metadata": {},
   "source": [
    "<h1>Funtions</h1>"
   ]
  },
  {
   "cell_type": "code",
   "execution_count": null,
   "metadata": {},
   "outputs": [],
   "source": [
    "def check_null_values(file, string):\n",
    "        if file.isnull().values.any():\n",
    "            print('There are null values in {} dataset'.format(string))\n",
    "        else:\n",
    "            print('There are no null values in {} dataset'.format(string))"
   ]
  },
  {
   "cell_type": "code",
   "execution_count": null,
   "metadata": {},
   "outputs": [],
   "source": [
    "def crop(image):\n",
    "    y_nonzero, x_nonzero, _ = np.nonzero(image)\n",
    "    return image[np.min(y_nonzero):np.max(y_nonzero), np.min(x_nonzero):np.max(x_nonzero)]"
   ]
  },
  {
   "cell_type": "code",
   "execution_count": null,
   "metadata": {},
   "outputs": [],
   "source": [
    "def RGB2HEX(color):\n",
    "     return \"#{:02x}{:02x}{:02x}\".format(int(color[0]), int(color[1]), int(color[2]))"
   ]
  },
  {
   "cell_type": "code",
   "execution_count": null,
   "metadata": {},
   "outputs": [],
   "source": [
    "def color_reader(img,mk):\n",
    "    im = plt.imread(img)\n",
    "    #mask is the gray segmentation mask\n",
    "    mask = plt.imread(mk)\n",
    "    #putting the color over the mask\n",
    "    im1 = im.copy()\n",
    "    im1[mask==0] = 0 #again python dark magic\n",
    "    #now for better performance we have to crop the image to it's extremities by calling the crop function\n",
    "    img2 = crop(im1)\n",
    "    #we have to get the coordinates of every pixel in the image so\n",
    "    xy_coords = np.flip(np.column_stack(np.where(img2 >= 0)), axis=1)\n",
    "    #if we print xy_coords they will appear three times because every pixel has three colour coordinates, namely RGB,thus\n",
    "    #I have to delete the first column(which is 0,1,2) and the duplicates\n",
    "    a_del = np.delete(xy_coords, 0, 1)\n",
    "    a_del = a_del[::3][:, [0, 1]] #python dark magic\n",
    "    #now we get all the rgb colours from every pixel in our picture\n",
    "    image = Image.fromarray(img2)\n",
    "    rgb_image = image.convert('RGB')\n",
    "    rgb1 = [rgb_image.getpixel((int(i[0]),int(i[1]))) for i in a_del]\n",
    "    #now to reduce it as much as we can we turn it to hexcodes so we don't have tuples of 3 values and we eliminate duplicates\n",
    "    dd = [RGB2HEX(i) for i in rgb1]\n",
    "    ss = list(set(dd)) #ye,I know\n",
    "    #now just a nice thing, to count how many colours appear in our picture, first one is useless since it will always be black\n",
    "    counter_colours =  Counter(dd)\n",
    "    #popping the black color\n",
    "    counter_colours.pop('#000000')\n",
    "    return counter_colours"
   ]
  },
  {
   "cell_type": "code",
   "execution_count": null,
   "metadata": {},
   "outputs": [],
   "source": [
    "def hsv(img,seg):    \n",
    "    im = plt.imread(img)\n",
    "    mask = plt.imread(seg)\n",
    "    im1 = im.copy()\n",
    "    im1[mask==0] = 0\n",
    "    new_arr_no_0 = im1[np.where(im1!=0)]\n",
    "    img2 = crop(im1)\n",
    "    image_copy = img2.copy()\n",
    "    non_black_pixels_mask = np.any(img2 != [0, 0, 0], axis=-1)  \n",
    "    no_black = image_copy[non_black_pixels_mask]\n",
    "    hsv_image = rgb2hsv(no_black)\n",
    "    min_max = [np.amax(hsv_image[:,1]) - np.amin(hsv_image[:,1])]\n",
    "    return min_max"
   ]
  },
  {
   "cell_type": "code",
   "execution_count": null,
   "metadata": {},
   "outputs": [],
   "source": [
    "def lightness(img,seg):\n",
    "    im = plt.imread(img)\n",
    "    mask = plt.imread(seg)\n",
    "    im1 = im.copy()\n",
    "    im1[mask==0] = 0\n",
    "    new_arr_no_0 = im1[np.where(im1!=0)]\n",
    "    img2 = crop(im1)\n",
    "    image_copy = img2.copy()\n",
    "    non_black_pixels_mask = np.any(img2 != [0, 0, 0], axis=-1)  \n",
    "    no_black = image_copy[non_black_pixels_mask]\n",
    "    hsv_image = rgb2hsv(no_black)\n",
    "    min_max = [np.amax(hsv_image[:,2]) - np.amin(hsv_image[:,2])]\n",
    "    return min_max\n",
    "\n"
   ]
  },
  {
   "cell_type": "code",
   "execution_count": null,
   "metadata": {},
   "outputs": [],
   "source": [
    "def asymmetry_level(im): \n",
    "    #Read image\n",
    "    im = plt.imread(im)\n",
    "    \n",
    "    #Crop the picture\n",
    "    #Center of the shape is the center of the image\n",
    "    #The borders of the shape are the borders of the image\n",
    "    y_nonzero, x_nonzero = np.nonzero(im)\n",
    "    im = im[np.min(y_nonzero):np.max(y_nonzero), np.min(x_nonzero):np.max(x_nonzero)]\n",
    "    \n",
    "    #Cut the image in halves \n",
    "    #Find the point of cutoff\n",
    "    height, width = im.shape\n",
    "    width_cutoff = width // 2\n",
    "    height_cutoff = height // 2\n",
    "    \n",
    "    #Cut the image vertically and horizontally in two \n",
    "    imVertical1 = im[:, :width_cutoff]\n",
    "    imVertical2 = im[:, width_cutoff:]\n",
    "    imHorizontal1 = im[:height_cutoff, :]\n",
    "    imHorizontal2 = im[height_cutoff:, :]\n",
    "    \n",
    "    #Flip image \n",
    "    #Interting one of the images both vertically and horizontally   \n",
    "    indexerVertical = [slice(None)] * imVertical2.ndim\n",
    "    indexerHorizontal = [slice(None)] * imHorizontal2.ndim\n",
    "    indexerVertical[1] = slice(None, None, -1)\n",
    "    indexerHorizontal[0] = slice(None, None, -1) \n",
    "    imVertical2 = imVertical2[tuple(indexerVertical)]\n",
    "    imHorizontal2 = imHorizontal2[tuple(indexerHorizontal)]\n",
    "\n",
    "    #Cut the biggest image, if the images don't have the same shape \n",
    "    #This can happen if the shape of the original shape was an odd number \n",
    "    imVertical2 = imVertical2[0:imVertical1.shape[0], 0:imVertical1.shape[1]]\n",
    "    imHorizontal2 = imHorizontal2[0:imHorizontal1.shape[0], 0:imHorizontal1.shape[1]]\n",
    "\n",
    "    img_bwxVertical = cv2.bitwise_xor(imVertical1,imVertical2)\n",
    "    img_bwxHorizontal = cv2.bitwise_xor(imHorizontal1,imHorizontal2)\n",
    "    \n",
    "    areaVertical = np.sum(img_bwxVertical == 1)\n",
    "    areaHorizontal = np.sum(img_bwxHorizontal == 1)\n",
    "    areaMean = (areaVertical + areaHorizontal) // 2\n",
    "    \n",
    "    #The asymmetry level (AS) is calculated as a percentage of the non-zero pixels in the overlapped image over the lesion area \n",
    "    return (areaMean / np.sum(im == 1)) *100"
   ]
  },
  {
   "cell_type": "code",
   "execution_count": null,
   "metadata": {},
   "outputs": [],
   "source": [
    "def perimeter_area(im):\n",
    "    image = plt.imread(im)\n",
    "    mask = image.copy()\n",
    "    area = np.sum(mask)\n",
    "    struct_el = morphology.disk(1)\n",
    "    mask_eroded = morphology.binary_erosion(mask, struct_el)\n",
    "    image_perimeter = mask - mask_eroded\n",
    "    perimeter = np.sum(image_perimeter)\n",
    "    return [area, perimeter]"
   ]
  },
  {
   "cell_type": "code",
   "execution_count": null,
   "metadata": {},
   "outputs": [],
   "source": [
    "def make_knn_prediction(k,train,classes,test):\n",
    "    neigh = KNeighborsClassifier(n_neighbors = k)\n",
    "    neigh.fit(train,classes.ravel())\n",
    "    clas_pred = neigh.predict(test)\n",
    "    return clas_pred"
   ]
  },
  {
   "cell_type": "code",
   "execution_count": null,
   "metadata": {},
   "outputs": [],
   "source": [
    "def accuracy_test(k,train,classes,test,classes_test):\n",
    "    performance = []\n",
    "    perform1 =[]\n",
    "    for i in range(1,k):\n",
    "        a = make_knn_prediction(i,train,classes,test)\n",
    "        performance.append(a)\n",
    "        for j in performance:\n",
    "            b = accuracy_score(classes_test,j)\n",
    "        perform1.append(b)\n",
    "    fig, axes = plt.subplots()\n",
    "    axes.plot(perform1)\n",
    "    plt.title(\"Classification Accuracy of KNN for Different Values of k\")\n",
    "    plt.ylabel(\"Test Accuracy\")\n",
    "    plt.xlabel(\"Value of k\");\n",
    "    plt.grid(color='grey', linestyle='--', linewidth=0.5)\n",
    "    return np.mean(perform1)\n",
    "\n"
   ]
  },
  {
   "cell_type": "code",
   "execution_count": null,
   "metadata": {},
   "outputs": [],
   "source": [
    "def scatter_data(x1, x2, y, ax=None):\n",
    "    # scatter_data displays a scatterplot of featuress x1 and x2, and gives each point\n",
    "    # a different color based on its label in y\n",
    "\n",
    "    class_labels, indices1, indices2 = np.unique(y, return_index=True, return_inverse=True)\n",
    "    if ax is None:\n",
    "        fig = plt.figure(figsize=(8, 8))\n",
    "        ax = fig.add_subplot(111)\n",
    "        ax.grid()\n",
    "\n",
    "    colors = cm.rainbow(np.linspace(0, 1, len(class_labels)))\n",
    "    for i, c in zip(np.arange(len(class_labels)), colors):\n",
    "        idx2 = indices2 == class_labels[i]\n",
    "        lbl = 'Class ' + str(i)\n",
    "        ax.scatter(x1[idx2], x2[idx2], color=c, label=lbl)\n",
    "\n",
    "    return ax"
   ]
  },
  {
   "attachments": {},
   "cell_type": "markdown",
   "metadata": {},
   "source": [
    "<h1>Task 0: Explore the data</h1>\n",
    "<h2>Data Checking and filtering</h2>\n",
    "\n",
    "<h3>Checking csv files for missing values</h3>"
   ]
  },
  {
   "cell_type": "code",
   "execution_count": null,
   "metadata": {},
   "outputs": [],
   "source": [
    "check_null_values(df_ground_truth, 'ground_truth')\n",
    "check_null_values(df_size_features, 'features')"
   ]
  },
  {
   "cell_type": "code",
   "execution_count": null,
   "metadata": {},
   "outputs": [],
   "source": [
    "if True in list(df_ground_truth.duplicated()):\n",
    "    print(\"Duplicated rows\")\n",
    "else:\n",
    "    print('No duplicate rows')\n",
    "\n",
    "if True in list(df_size_features.duplicated()):\n",
    "    print(\"Duplicated rows\")\n",
    "else:\n",
    "    print('No duplicate rows')\n"
   ]
  },
  {
   "cell_type": "code",
   "execution_count": null,
   "metadata": {},
   "outputs": [],
   "source": [
    "df_ground_truth = df_ground_truth.set_index('image_id')\n",
    "df_features = df_size_features.set_index('id')"
   ]
  },
  {
   "cell_type": "code",
   "execution_count": null,
   "metadata": {},
   "outputs": [],
   "source": [
    "color_img_path_list = []\n",
    "segm_path_list = []\n",
    "\n",
    "#getting img paths\n",
    "for i in image_files[1:]:\n",
    "    img_path = os.path.join(image_folder, i)\n",
    "    color_img_path_list.append(img_path)\n",
    "\n",
    "for i in segmentation_files:\n",
    "    img_path1 = os.path.join(segmentation_folder, i)\n",
    "    segm_path_list.append(img_path1)\n",
    "\n",
    "both_images = list(zip(color_img_path_list, segm_path_list))"
   ]
  },
  {
   "cell_type": "code",
   "execution_count": null,
   "metadata": {},
   "outputs": [],
   "source": [
    "#split images by lesion type\n",
    "keratosis_mask = df_ground_truth['seborrheic_keratosis']==1.0\n",
    "melanoma_mask = df_ground_truth['melanoma']==1.0\n",
    "healthy_mask = (df_ground_truth['seborrheic_keratosis']==0.0) & (df_ground_truth['melanoma']==0.0)\n",
    "\n",
    "keratosis_images = df_ground_truth.index[keratosis_mask].tolist()\n",
    "melanoma_images = df_ground_truth.index[melanoma_mask].tolist()\n",
    "healthy_images = df_ground_truth.index[healthy_mask].tolist()\n",
    "\n",
    "keratosis = [] #path to all keratosis images\n",
    "keratosis_seg = []\n",
    "for i in keratosis_images:\n",
    "    keratosis_path = os.path.join(image_folder, i + '.jpg')\n",
    "    keratosis_seg_path = os.path.join(segmentation_folder, i + '_segmentation.png')\n",
    "    keratosis.append(keratosis_path)\n",
    "    keratosis_seg.append(keratosis_seg_path)\n",
    "\n",
    "\n",
    "melanoma = [] #paths to all melanoma images\n",
    "melanoma_seg = []\n",
    "for i in melanoma_images:\n",
    "    melanoma_path = os.path.join(image_folder, i + '.jpg')\n",
    "    melanoma_seg_path = os.path.join(segmentation_folder, i + '_segmentation.png')\n",
    "    melanoma.append(melanoma_path)\n",
    "    melanoma_seg.append(melanoma_seg_path)\n",
    "\n",
    "\n",
    "healthy = [] #paths to all healthy images\n",
    "healthy_seg = []\n",
    "for i in healthy_images:\n",
    "    healthy_path = os.path.join(image_folder, i + '.jpg')\n",
    "    healthy_seg_path = os.path.join(segmentation_folder, i + '_segmentation.png')\n",
    "    healthy.append(healthy_path)\n",
    "    healthy_seg.append(healthy_seg_path)"
   ]
  },
  {
   "cell_type": "code",
   "execution_count": null,
   "metadata": {},
   "outputs": [],
   "source": [
    "keratosis_final = list(zip(keratosis, keratosis_seg))\n",
    "melanoma_final = list(zip(melanoma, melanoma_seg))\n",
    "healthy_final = list(zip(healthy, healthy_seg))"
   ]
  },
  {
   "cell_type": "code",
   "execution_count": null,
   "metadata": {},
   "outputs": [],
   "source": [
    "shape_list = []\n",
    "for i in keratosis:\n",
    "    b = plt.imread(i)\n",
    "    shape_list.append(b.shape)\n",
    "\n",
    "df_img_shape = pd.DataFrame(shape_list, columns=['Height', 'Width', 'Channels'])\n",
    "df_img_shape.sort_values('Height',ascending=False).head()"
   ]
  },
  {
   "cell_type": "code",
   "execution_count": null,
   "metadata": {},
   "outputs": [],
   "source": [
    "shape_list = []\n",
    "for i in ex_keratosis:\n",
    "    b = plt.imread(i)\n",
    "    shape_list.append(b.shape)\n",
    "\n",
    "df_img_shape = pd.DataFrame(shape_list, columns=['Height', 'Width', 'Channels'])\n",
    "df_img_shape.sort_values('Height',ascending=False).head()"
   ]
  },
  {
   "attachments": {},
   "cell_type": "markdown",
   "metadata": {},
   "source": [
    "<h1>Task 2: Feature Analysis"
   ]
  },
  {
   "attachments": {},
   "cell_type": "markdown",
   "metadata": {},
   "source": [
    "<h3>1.1 Color Analysis</h3>"
   ]
  },
  {
   "cell_type": "code",
   "execution_count": null,
   "metadata": {},
   "outputs": [],
   "source": [
    "im = plt.imread(keratosis[1])\n",
    "mask = plt.imread(keratosis_seg[1])\n",
    "\n"
   ]
  },
  {
   "cell_type": "code",
   "execution_count": null,
   "metadata": {},
   "outputs": [],
   "source": [
    "plt.imshow(mask)"
   ]
  },
  {
   "cell_type": "code",
   "execution_count": null,
   "metadata": {},
   "outputs": [],
   "source": [
    "area = np.sum(mask)\n",
    "struct_el = morphology.disk(1)\n",
    "mask_eroded = morphology.binary_erosion(mask, struct_el)\n",
    "image_perimeter = mask - mask_eroded\n",
    "perimeter = np.sum(image_perimeter)\n",
    "plt.imshow(image_perimeter)\n",
    "print('The area is: ', area, '\\nThe perimeter is: ', perimeter)"
   ]
  },
  {
   "cell_type": "code",
   "execution_count": null,
   "metadata": {},
   "outputs": [],
   "source": [
    "ex_k_area_per = [perimeter_area(i) for i in ex_keratosis_seg]\n",
    "ex_m_area_per = [perimeter_area(i) for i in ex_melanoma_seg]\n",
    "ex_h_area_per = [perimeter_area(i) for i in ex_healthy_seg]"
   ]
  },
  {
   "cell_type": "code",
   "execution_count": null,
   "metadata": {},
   "outputs": [],
   "source": [
    "ex_k_area = [i[0] for i in ex_k_area_per]\n",
    "ex_k_per = [i[1] for i in ex_k_area_per]\n",
    "\n",
    "ex_m_area = [i[0] for i in ex_m_area_per]\n",
    "ex_m_per = [i[1] for i in ex_m_area_per]\n",
    "\n",
    "ex_h_area = [i[0] for i in ex_h_area_per]\n",
    "ex_h_per = [i[1] for i in ex_h_area_per]\n",
    "\n",
    "ex_all_area = np.array(ex_k_area + ex_m_area + ex_h_area)\n",
    "ex_all_per = np.array(ex_k_per + ex_m_per + ex_h_per)"
   ]
  },
  {
   "cell_type": "code",
   "execution_count": null,
   "metadata": {},
   "outputs": [],
   "source": [
    "im1 = im.copy()\n",
    "im1[mask==0] = 0\n",
    "new_arr_no_0 = im1[np.where(im1!=0)]\n",
    "\n",
    "im1 = crop(im1)\n",
    "plt.imshow(im1)"
   ]
  },
  {
   "cell_type": "code",
   "execution_count": null,
   "metadata": {},
   "outputs": [],
   "source": [
    "xy_cords = np.flip(np.column_stack(np.where(im1 >= 0)), axis=1)\n",
    "a_del = np.delete(xy_cords, 0, 1)\n",
    "a_del = a_del[::3][:,[0,1]]\n",
    "\n",
    "print(a_del)"
   ]
  },
  {
   "cell_type": "code",
   "execution_count": null,
   "metadata": {},
   "outputs": [],
   "source": [
    "image = Image.fromarray(im1)\n",
    "rgb_image = image.convert('RGB')\n",
    "\n",
    "rgb1 = []\n",
    "for i in a_del:\n",
    "    aux_val = rgb_image.getpixel((int(i[0]), int(i[1])))\n",
    "    rgb1.append(aux_val)\n",
    "\n",
    "hex_codes = [RGB2HEX(i) for i in rgb1]\n",
    "counted_colors = Counter(hex_codes)\n",
    "counted_colors.pop('#000000')"
   ]
  },
  {
   "attachments": {},
   "cell_type": "markdown",
   "metadata": {},
   "source": [
    "Getting the final colors per each category.\n",
    "WARNING! This code block will take a while to run! I recommend puting your laptop in performance mode and letting it sit somewhere between 40-80 minutes"
   ]
  },
  {
   "cell_type": "code",
   "execution_count": null,
   "metadata": {},
   "outputs": [],
   "source": [
    "final_k = [color_reader(i[0], i[1]) for i in keratosis_final]\n",
    "final_m = [color_reader(i[0], i[1]) for i in melanoma_final]\n",
    "final_h = [color_reader(i[0], i[1]) for i in healthy_final]"
   ]
  },
  {
   "cell_type": "code",
   "execution_count": null,
   "metadata": {},
   "outputs": [],
   "source": [
    "k_len = [len(i) for i in final_k]\n",
    "h_len = [len(i) for i in final_h]\n",
    "m_len = [len(i) for i in final_m]"
   ]
  },
  {
   "cell_type": "code",
   "execution_count": null,
   "metadata": {},
   "outputs": [],
   "source": [
    "final_k"
   ]
  },
  {
   "cell_type": "code",
   "execution_count": null,
   "metadata": {},
   "outputs": [],
   "source": [
    "extra_final_k = [color_reader(i[0], i[1]) for i in ex_final_keratosis]\n",
    "extra_final_m = [color_reader(i[0], i[1]) for i in ex_final_melanoma]\n",
    "extra_final_h = [color_reader(i[0], i[1]) for i in ex_final_healthy]"
   ]
  },
  {
   "cell_type": "code",
   "execution_count": null,
   "metadata": {},
   "outputs": [],
   "source": [
    "ex_k_len = [len(i) for i in extra_final_k]\n",
    "ex_m_len = [len(i) for i in extra_final_m]\n",
    "ex_h_len = [len(i) for i in extra_final_h]"
   ]
  },
  {
   "attachments": {},
   "cell_type": "markdown",
   "metadata": {},
   "source": [
    "<h3>Color Analysis: Saturation</h3>"
   ]
  },
  {
   "cell_type": "code",
   "execution_count": null,
   "metadata": {},
   "outputs": [],
   "source": [
    "image_copy = im1.copy()\n",
    "non_black_pixels_mask = np.any(im1 != [0, 0, 0], axis=-1)"
   ]
  },
  {
   "cell_type": "code",
   "execution_count": null,
   "metadata": {},
   "outputs": [],
   "source": [
    "hsv_pic = rgb2hsv(image_copy[non_black_pixels_mask])\n",
    "maximum = np.max(hsv_pic[:,1])\n",
    "minimum = np.min(hsv_pic[:,1])"
   ]
  },
  {
   "cell_type": "code",
   "execution_count": null,
   "metadata": {},
   "outputs": [],
   "source": [
    "k_hsv = [hsv(i[0],i[1]) for i in keratosis_final]\n",
    "m_hsv = [hsv(i[0],i[1]) for i in melanoma_final]\n",
    "h_hsv = [hsv(i[0],i[1]) for i in healthy_final]"
   ]
  },
  {
   "cell_type": "code",
   "execution_count": null,
   "metadata": {},
   "outputs": [],
   "source": [
    "ex_k_hsv = [hsv(i[0],i[1]) for i in ex_final_keratosis]\n",
    "ex_m_hsv = [hsv(i[0],i[1]) for i in ex_final_melanoma]\n",
    "ex_h_hsv = [hsv(i[0],i[1]) for i in ex_final_healthy]"
   ]
  },
  {
   "attachments": {},
   "cell_type": "markdown",
   "metadata": {},
   "source": [
    "<h3>Symmetry analysis</h3>"
   ]
  },
  {
   "cell_type": "code",
   "execution_count": null,
   "metadata": {},
   "outputs": [],
   "source": [
    "im_sym = plt.imread(keratosis_seg[1])\n",
    "y_nonzero, x_nonzero = np.nonzero(im_sym)\n",
    "im_sym = im_sym[np.min(y_nonzero):np.max(y_nonzero), np.min(x_nonzero):np.max(x_nonzero)]"
   ]
  },
  {
   "cell_type": "code",
   "execution_count": null,
   "metadata": {},
   "outputs": [],
   "source": [
    "plt.imshow(im_sym)"
   ]
  },
  {
   "cell_type": "code",
   "execution_count": null,
   "metadata": {},
   "outputs": [],
   "source": [
    "height, width = im_sym.shape\n",
    "width_slice = width//2\n",
    "height_slice = height//2"
   ]
  },
  {
   "cell_type": "code",
   "execution_count": null,
   "metadata": {},
   "outputs": [],
   "source": [
    "print(width_slice, height_slice)"
   ]
  },
  {
   "cell_type": "code",
   "execution_count": null,
   "metadata": {},
   "outputs": [],
   "source": [
    "verticalLeft = im_sym[:,:width_slice]\n",
    "verticalRight = im_sym[:, width_slice:]\n",
    "\n",
    "horizontalUp = im_sym[:height_slice, :]\n",
    "horizontalDown = im_sym[height_slice:, :]\n",
    "\n",
    "plt.imshow(verticalLeft)"
   ]
  },
  {
   "cell_type": "code",
   "execution_count": null,
   "metadata": {},
   "outputs": [],
   "source": [
    "verticalIndex = [slice(None)]*verticalRight.ndim\n",
    "horizontalIndex = [slice(None)]*horizontalDown.ndim\n",
    "\n",
    "verticalIndex[1] = slice(None, None, -1)\n",
    "horizontalIndex[0] = slice(None, None, -1)\n",
    "\n",
    "verticalRight = verticalRight[tuple(verticalIndex)]\n",
    "horizontalDown = horizontalDown[tuple(horizontalIndex)]\n"
   ]
  },
  {
   "cell_type": "code",
   "execution_count": null,
   "metadata": {},
   "outputs": [],
   "source": [
    "verticalRight = verticalRight[0:verticalLeft.shape[0], 0:verticalLeft.shape[1]]\n",
    "horizontalDown = horizontalDown[0:horizontalUp.shape[0], 0:horizontalUp.shape[1]]"
   ]
  },
  {
   "cell_type": "code",
   "execution_count": null,
   "metadata": {},
   "outputs": [],
   "source": [
    "img_bwxVertical = cv2.bitwise_xor(verticalLeft,verticalRight)\n",
    "img_bwxHorizontal = cv2.bitwise_xor(horizontalUp,horizontalDown)\n",
    "fig, axes = plt.subplots(1, 2, figsize =(10,10))\n",
    "axes[0].imshow(img_bwxVertical, cmap='gray')\n",
    "axes[1].imshow(img_bwxHorizontal, cmap='gray')"
   ]
  },
  {
   "cell_type": "code",
   "execution_count": null,
   "metadata": {},
   "outputs": [],
   "source": [
    "areaVertical = np.sum(img_bwxVertical == 1)\n",
    "areaHorizontal = np.sum(img_bwxHorizontal == 1)\n",
    "areaMean = (areaVertical + areaHorizontal) // 2"
   ]
  },
  {
   "attachments": {},
   "cell_type": "markdown",
   "metadata": {},
   "source": [
    "The asymmetry level (AS) is calculated as a percentage of the non-zero pixels in the overlapped image over the lesion area"
   ]
  },
  {
   "cell_type": "code",
   "execution_count": null,
   "metadata": {},
   "outputs": [],
   "source": [
    "print(areaMean / np.sum(im_sym == 1) *100)"
   ]
  },
  {
   "attachments": {},
   "cell_type": "markdown",
   "metadata": {},
   "source": [
    "Preparing k_sym and h_sym for the prediction algorithm\n",
    "\n",
    "k_sym - is the asymmetry level of every segmentation picture in the keratosis segmentation dataset\n",
    "\n",
    "m_sym - is the asymmetry level of every segmentation picture in the melanoma segmentation dataset\n",
    "\n",
    "h_sym - is the asymmetry level of every segmentation picture in the healthy segmentation dataset\n"
   ]
  },
  {
   "cell_type": "code",
   "execution_count": null,
   "metadata": {},
   "outputs": [],
   "source": [
    "k_sym = [asymmetry_level(i) for i in keratosis_seg]\n",
    "m_sym = [asymmetry_level(i) for i in melanoma_seg]\n",
    "h_sym = [asymmetry_level(i) for i in healthy_seg]"
   ]
  },
  {
   "cell_type": "code",
   "execution_count": null,
   "metadata": {},
   "outputs": [],
   "source": [
    "ex_k_sym = [asymmetry_level(i) for i in ex_keratosis_seg]\n",
    "ex_m_sym = [asymmetry_level(i) for i in ex_melanoma_seg]\n",
    "ex_h_sym = [asymmetry_level(i) for i in ex_healthy_seg]"
   ]
  },
  {
   "attachments": {},
   "cell_type": "markdown",
   "metadata": {},
   "source": [
    "<h2>Adding every feature to a DataFrame</h2>"
   ]
  },
  {
   "cell_type": "code",
   "execution_count": null,
   "metadata": {},
   "outputs": [],
   "source": [
    "all_len = np.array(k_len + m_len + h_len)\n",
    "all_image = np.array(keratosis_images + melanoma_images + healthy_images)\n",
    "all_color = np.array(final_k + final_m + final_h)\n",
    "df_color_counter = pd.DataFrame({\"image_id\": all_image, \"Nb_of_Colors\": all_len, \"Color_Counter\":all_color})\n",
    "df_color_counter.to_csv(\"../features/final_features/features_all_colors.csv\", index=False)\n",
    "\n",
    "all_hsv = np.array(k_hsv + m_hsv + h_hsv)\n",
    "df_saturation = pd.DataFrame({\"image_id\": all_image, \"Sat_Value\": all_hsv.reshape(-1)})\n",
    "df_features = pd.merge(df_color_counter, df_saturation, on=\"image_id\", how=\"left\")\n",
    "\n",
    "all_asym = np.array(k_sym + m_sym + h_sym)\n",
    "df_asym = pd.DataFrame({\"image_id\": all_image, \"Asymmetry\": all_asym})\n",
    "df_features = df_features.merge(df_asym, on=\"image_id\", how=\"left\")\n",
    "\n",
    "df_size_features = df_size_features.rename(columns={\"id\":\"image_id\"})\n",
    "df_features = df_features.merge(df_size_features, on=\"image_id\", how=\"left\")\n",
    "df_features = pd.merge(df_features, df_ground_truth, on=\"image_id\", how=\"left\")\n",
    "\n",
    "conditions = [\n",
    "    (df_features[\"melanoma\"] == 0) & (df_features[\"seborrheic_keratosis\"] == 0),\n",
    "    (df_features[\"melanoma\"] == 1) & (df_features[\"seborrheic_keratosis\"] == 0),\n",
    "    (df_features[\"melanoma\"] == 0) & (df_features[\"seborrheic_keratosis\"] == 1),\n",
    "]\n",
    "values_nb = [0,1,2]\n",
    "values_name = [\"healthy\", \"melanoma\", \"keratosis\"]\n",
    "df_features[\"Lesion_Type\"] = np.select(conditions, values_nb)\n",
    "df_features[\"Lesion_Name\"] = np.select(conditions, values_name)\n",
    "\n",
    "df_features = df_features.drop(columns=\"Color_Counter\")\n",
    "\n",
    "\n",
    "df_features.to_csv(\"../features/final_features/features_original_image_dataset.csv\", index=False)"
   ]
  },
  {
   "cell_type": "code",
   "execution_count": null,
   "metadata": {},
   "outputs": [],
   "source": [
    "ex_all_len = np.array(ex_k_len + ex_m_len + ex_h_len)\n",
    "ex_all_image = np.array(extra_keratosis_im + extra_melanoma_im + extra_healthy_im)\n",
    "ex_all_color = np.array(extra_final_k + extra_final_m + extra_final_h)\n",
    "df_color_counter_extra = pd.DataFrame({\"image_id\": ex_all_image, \"Nb_of_Colors\": ex_all_len, \"Color_Counter\":ex_all_color})\n",
    "df_color_counter_extra.to_csv(\"../features/extra_final_features/extra_features_all_colors.csv\", index=False)\n",
    "\n",
    "ex_all_hsv = np.array(ex_k_hsv + ex_m_hsv + ex_h_hsv)\n",
    "df_saturation_extra = pd.DataFrame({\"image_id\": ex_all_image, \"Sat_Value\": ex_all_hsv.reshape(-1)})\n",
    "df_features_extra = pd.merge(df_color_counter_extra, df_saturation_extra, on=\"image_id\", how=\"left\")\n",
    "\n",
    "ex_all_asym = np.array(ex_k_sym + ex_m_sym + ex_h_sym)\n",
    "df_asym_extra = pd.DataFrame({\"image_id\": ex_all_image, \"Asymmetry\": ex_all_asym})\n",
    "df_features_extra = df_features_extra.merge(df_asym_extra, on=\"image_id\", how=\"left\")\n",
    "\n",
    "df_size_features_extra = pd.DataFrame({\"image_id\": ex_all_image, \"area\":ex_all_area, \"perimeter\": ex_all_per })\n",
    "df_features_extra = df_features_extra.merge(df_size_features_extra, on=\"image_id\", how=\"left\")\n",
    "df_features_extra = pd.merge(df_features_extra, df_extra_gt, on=\"image_id\", how=\"left\")\n",
    "\n",
    "conditions = [\n",
    "    (df_features_extra[\"melanoma\"] == 0) & (df_features_extra[\"seborrheic_keratosis\"] == 0),\n",
    "    (df_features_extra[\"melanoma\"] == 1) & (df_features_extra[\"seborrheic_keratosis\"] == 0),\n",
    "    (df_features_extra[\"melanoma\"] == 0) & (df_features_extra[\"seborrheic_keratosis\"] == 1),\n",
    "]\n",
    "values_nb = [0,1,2]\n",
    "values_name = [\"healthy\", \"melanoma\", \"keratosis\"]\n",
    "df_features_extra[\"Lesion_Type\"] = np.select(conditions, values_nb)\n",
    "df_features_extra[\"Lesion_Name\"] = np.select(conditions, values_name)\n",
    "\n",
    "df_features_extra = df_features_extra.drop(columns=\"Color_Counter\")\n",
    "\n",
    "\n",
    "df_features_extra.to_csv(\"../features/extra_final_features/features_extra_image_dataset.csv\", index=False)"
   ]
  },
  {
   "attachments": {},
   "cell_type": "markdown",
   "metadata": {},
   "source": [
    "<h3>Read the imported DataFrame </h3>\n",
    "<p>It has been placed on Github, it is the same dataframe used in the upper cells in this notebook, skip the dataframe generation and just read this file, it will save you a lot of time.</p>\n",
    "\n",
    "<p>Files: <br> ../data/final_features/features_original_dataset.csv - contains all the feature for the 150 images <br><br> ../data/final_features/features_all_colors.csv - contains all the colors and total number of colors for each image\n",
    "</p>"
   ]
  },
  {
   "cell_type": "code",
   "execution_count": null,
   "metadata": {},
   "outputs": [],
   "source": [
    "df_features = pd.read_csv(\"../features/final_features/features_original_image_dataset.csv\")"
   ]
  },
  {
   "cell_type": "code",
   "execution_count": null,
   "metadata": {},
   "outputs": [],
   "source": [
    "df_features"
   ]
  },
  {
   "cell_type": "code",
   "execution_count": null,
   "metadata": {},
   "outputs": [],
   "source": [
    "df_features_extra = pd.read_csv(\"../features/extra_final_features/features_extra_image_dataset.csv\")"
   ]
  },
  {
   "attachments": {},
   "cell_type": "markdown",
   "metadata": {},
   "source": [
    "<h3>Visualization</h3>"
   ]
  },
  {
   "attachments": {},
   "cell_type": "markdown",
   "metadata": {},
   "source": [
    "<h5> Visualization of original 150 photo's data</h5>"
   ]
  },
  {
   "cell_type": "code",
   "execution_count": null,
   "metadata": {},
   "outputs": [],
   "source": [
    "features_area = np.array(df_features['area'])\n",
    "features_perimeter = np.array(df_features['perimeter'])\n",
    "features_lesion_type = np.array(df_features['Lesion_Type'])\n",
    "axs = scatter_data(features_area, features_perimeter, features_lesion_type)\n",
    "axs.set_title(\" Scatter Plot: Area - Perimeter\")\n",
    "axs.set_xlabel('X1 = Area')\n",
    "axs.set_ylabel('X2 = Perimeter')\n",
    "axs.legend()"
   ]
  },
  {
   "cell_type": "code",
   "execution_count": null,
   "metadata": {},
   "outputs": [],
   "source": [
    "df_aux = df_features[[\"area\", \"perimeter\", \"Lesion_Name\"]]\n",
    "sns.pairplot(df_aux, height=4, hue='Lesion_Name')"
   ]
  },
  {
   "cell_type": "code",
   "execution_count": null,
   "metadata": {},
   "outputs": [],
   "source": [
    "features_color = np.array(df_features['Nb_of_Colors'])\n",
    "features_saturation = np.array(df_features['Sat_Value'])\n",
    "features_lesion_type = np.array(df_features['Lesion_Type'])\n",
    "axs = scatter_data(features_saturation,features_color,  features_lesion_type)\n",
    "axs.set_title(\" Scatter Plot: Nb. of Colors per pixel - Image Saturation\")\n",
    "axs.set_xlabel('X2 = Image Saturation')\n",
    "axs.set_ylabel('X1 = Nb. of Colors')\n",
    "axs.legend()"
   ]
  },
  {
   "cell_type": "code",
   "execution_count": null,
   "metadata": {},
   "outputs": [],
   "source": [
    "df_aux1 = df_features[[\"Sat_Value\", \"Nb_of_Colors\",  \"Lesion_Name\"]]\n",
    "sns.pairplot(df_aux1, height=4, hue='Lesion_Name')"
   ]
  },
  {
   "attachments": {},
   "cell_type": "markdown",
   "metadata": {},
   "source": [
    "<h5> Visualization of the extra data (2000 photos) </h5>"
   ]
  },
  {
   "cell_type": "code",
   "execution_count": null,
   "metadata": {},
   "outputs": [],
   "source": [
    "df_aux2 = df_features_extra[[\"Sat_Value\", \"Nb_of_Colors\", \"Lesion_Type\",  \"Lesion_Name\"]]\n",
    "sns.pairplot(df_aux2.sort_values(by=[\"Lesion_Type\"], ascending=True).drop(columns=[\"Lesion_Type\"]), height=4, hue='Lesion_Name')"
   ]
  },
  {
   "attachments": {},
   "cell_type": "markdown",
   "metadata": {},
   "source": [
    "<h3>Diagnosis prediction</h3>"
   ]
  },
  {
   "cell_type": "code",
   "execution_count": null,
   "metadata": {},
   "outputs": [],
   "source": [
    "# classifier_healthy = np.array([0 for i in range(len(ex_healthy))])\n",
    "# classifier_melanoma = np.array([1 for i in range(len(ex_melanoma))])\n",
    "# classifier_keratosis = np.array([2 for i in range(len(ex_keratosis))])\n",
    "\n",
    "\n",
    "\n",
    "# clas = np.array([x for y in [classifier_keratosis, classifier_melanoma, classifier_healthy] for x in y])\n",
    "# same as:\n",
    "# for y in [classifier_keratosis, classifier_melanoma, classifier_healthy]:\n",
    "#   for x in y:\n",
    "#       yeild x\n",
    "\n",
    "clas = df_features_extra[\"Lesion_Type\"].to_numpy()"
   ]
  },
  {
   "attachments": {},
   "cell_type": "markdown",
   "metadata": {},
   "source": [
    "<h4>1.Color diagnosis</h4>"
   ]
  },
  {
   "cell_type": "code",
   "execution_count": null,
   "metadata": {},
   "outputs": [],
   "source": [
    "#color_data = np.array(ex_k_len + ex_m_len + ex_h_len)\n",
    "color_data = df_features_extra[\"Nb_of_Colors\"].to_numpy()\n",
    "\n",
    "color_train, color_test, clas_train, clas_test = train_test_split(color_data,clas,test_size=0.6, random_state=4)\n",
    "\n",
    "color_train = color_train.reshape(-1, 1)\n",
    "clas_train = clas_train.reshape(-1, 1)\n",
    "color_test = color_test.reshape(-1, 1)"
   ]
  },
  {
   "cell_type": "code",
   "execution_count": null,
   "metadata": {},
   "outputs": [],
   "source": [
    "print(make_knn_prediction(7, color_train, clas_train, color_test))\n",
    "print(clas_test)"
   ]
  },
  {
   "cell_type": "code",
   "execution_count": null,
   "metadata": {},
   "outputs": [],
   "source": [
    "accuracy_test(380,color_train,clas_train,color_test,clas_test)"
   ]
  },
  {
   "attachments": {},
   "cell_type": "markdown",
   "metadata": {},
   "source": [
    "<h4>2.Saturation</h4>"
   ]
  },
  {
   "cell_type": "code",
   "execution_count": null,
   "metadata": {},
   "outputs": [],
   "source": [
    "#sat_data = np.array([x for y in [ex_k_hsv, ex_m_hsv, ex_h_hsv] for x in y])\n",
    "sat_data = df_features_extra[\"Sat_Value\"].to_numpy()\n",
    "\n",
    "sat_train, sat_test, clas_train, clas_test = train_test_split(sat_data, clas, test_size=0.6, random_state = 4)\n",
    "\n",
    "sat_train = sat_train.reshape(-1, 1)\n",
    "clas_train = clas_train.reshape(-1, 1)\n",
    "sat_test = sat_test.reshape(-1, 1)"
   ]
  },
  {
   "cell_type": "code",
   "execution_count": null,
   "metadata": {},
   "outputs": [],
   "source": [
    "print(make_knn_prediction(7,sat_train,clas_train,sat_test))\n",
    "print(clas_test)"
   ]
  },
  {
   "cell_type": "code",
   "execution_count": null,
   "metadata": {},
   "outputs": [],
   "source": [
    "accuracy_test(150,sat_train,clas_train,sat_test,clas_test)"
   ]
  },
  {
   "attachments": {},
   "cell_type": "markdown",
   "metadata": {},
   "source": [
    "<h4>3.Asymmetry</h4>"
   ]
  },
  {
   "cell_type": "code",
   "execution_count": null,
   "metadata": {},
   "outputs": [],
   "source": [
    "#asym_data = np.array([x for y in [ex_k_sym, ex_m_sym, ex_h_sym] for x in y])\n",
    "asym_data = df_features_extra[\"Asymmetry\"].to_numpy()\n",
    "\n",
    "asym_train, asym_test, clas_train, clas_test = train_test_split(asym_data, clas, test_size=0.6, random_state=4)\n",
    "\n",
    "asym_train = asym_train.reshape(-1, 1)\n",
    "clas_train = clas_train.reshape(-1, 1)\n",
    "asym_test = asym_test.reshape(-1, 1)"
   ]
  },
  {
   "cell_type": "code",
   "execution_count": null,
   "metadata": {},
   "outputs": [],
   "source": [
    "print(make_knn_prediction(7,asym_train,clas_train,asym_test))\n",
    "print(clas_test)"
   ]
  },
  {
   "cell_type": "code",
   "execution_count": null,
   "metadata": {},
   "outputs": [],
   "source": [
    "accuracy_test(800,asym_train,clas_train,asym_test,clas_test)"
   ]
  },
  {
   "attachments": {},
   "cell_type": "markdown",
   "metadata": {},
   "source": [
    "Single image prediction: see more under the scripts folder"
   ]
  },
  {
   "cell_type": "code",
   "execution_count": null,
   "metadata": {},
   "outputs": [],
   "source": [
    "df_features_extra[df_features_extra[\"Lesion_Type\"]!=2]"
   ]
  },
  {
   "cell_type": "code",
   "execution_count": null,
   "metadata": {},
   "outputs": [],
   "source": [
    "from sklearn.model_selection import train_test_split\n",
    "\n",
    "X = df_features_extra[df_features_extra[\"Lesion_Type\"]!=2].iloc[:, 1:6].values\n",
    "y = df_features_extra[df_features_extra[\"Lesion_Type\"]!=2].iloc[:, 8].values \n",
    "\n",
    "X_train, X_test, y_train, y_test = train_test_split(X, y, test_size = 0.20)"
   ]
  },
  {
   "cell_type": "code",
   "execution_count": null,
   "metadata": {},
   "outputs": [],
   "source": [
    "from sklearn.preprocessing import Normalizer\n",
    "\n",
    "scaler = Normalizer()\n",
    "scaler.fit(X_train)\n",
    "X_train = scaler.transform(X_train)\n",
    "X_test = scaler.transform(X_test)"
   ]
  },
  {
   "cell_type": "code",
   "execution_count": null,
   "metadata": {},
   "outputs": [],
   "source": [
    "from sklearn.neighbors import KNeighborsClassifier\n",
    "\n",
    "classifier = KNeighborsClassifier(n_neighbors=7)\n",
    "classifier.fit(X_train, y_train)"
   ]
  },
  {
   "cell_type": "code",
   "execution_count": null,
   "metadata": {},
   "outputs": [],
   "source": [
    "y_pred = classifier.predict(X_test)"
   ]
  },
  {
   "cell_type": "code",
   "execution_count": null,
   "metadata": {},
   "outputs": [],
   "source": [
    "result = {}  \n",
    "img_pred = classifier.predict(df_features_extra[df_features_extra[\"image_id\"]==\"ISIC_0012261\"].iloc[:, 1:6].values)\n",
    "score = classifier.predict_proba(df_features_extra[df_features_extra[\"image_id\"]==\"ISIC_0012261\"].iloc[:, 1:6].values)\n",
    "model_classes = classifier.classes_\n",
    "index = np.where(model_classes == img_pred[0])[0][0]\n",
    "result[\"predicted\"] = img_pred[0]\n",
    "result[\"score\"] = score[0][index]\n",
    "result"
   ]
  },
  {
   "cell_type": "code",
   "execution_count": null,
   "metadata": {},
   "outputs": [],
   "source": [
    "from sklearn.metrics import classification_report, confusion_matrix\n",
    "\n",
    "print(classification_report(y_test, y_pred))\n",
    "print(confusion_matrix(y_test,y_pred))"
   ]
  },
  {
   "attachments": {},
   "cell_type": "markdown",
   "metadata": {},
   "source": [
    "<h3> Open Question </h3>\n",
    "\n",
    "<p>\n",
    "Our open question is in regards with the saturation ( which in our case measures the difference between the most saturated and the least saturated colours in the lession thus showing us the saturation variation) and the lightness value ( which in our case measures the diffrence between the brightest and the darkest colours in the lession thus showing us the lightness variation ). Therefore the question is which one would be more fitted to be a good feature to predict the diagnosis of a skin lession.\n",
    "</p>"
   ]
  },
  {
   "cell_type": "code",
   "execution_count": null,
   "metadata": {},
   "outputs": [],
   "source": [
    "ex_k_light = [lightness(i[0],i[1]) for i in ex_final_keratosis]\n",
    "ex_m_light = [lightness(i[0],i[1]) for i in ex_final_melanoma]\n",
    "ex_h_light = [lightness(i[0],i[1]) for i in ex_final_healthy]"
   ]
  },
  {
   "cell_type": "code",
   "execution_count": null,
   "metadata": {},
   "outputs": [],
   "source": [
    "light_data = np.array([x for y in [ex_k_light, ex_m_light, ex_h_light] for x in y])\n",
    "\n",
    "df_light_extra = pd.DataFrame({\"image_id\": ex_all_image, \"Lightness\": light_data.flatten()})\n",
    "df_light_extra.to_csv(\"../features/extra_final_features/extra_lightness_data.csv\", index=False)"
   ]
  },
  {
   "cell_type": "code",
   "execution_count": null,
   "metadata": {},
   "outputs": [],
   "source": [
    "df_light_extra = pd.read_csv(\"../features/extra_final_features/extra_lightness_data.csv\")\n",
    "\n",
    "light_data = df_light_extra[\"Lightness\"].to_numpy()"
   ]
  },
  {
   "cell_type": "code",
   "execution_count": null,
   "metadata": {},
   "outputs": [],
   "source": [
    "light_data"
   ]
  },
  {
   "cell_type": "code",
   "execution_count": null,
   "metadata": {},
   "outputs": [],
   "source": [
    "light_train, light_test, clas_train, clas_test = train_test_split(light_data, clas, test_size=0.6, random_state=4)"
   ]
  },
  {
   "cell_type": "code",
   "execution_count": null,
   "metadata": {},
   "outputs": [],
   "source": [
    "light_train = light_train.reshape(-1, 1)\n",
    "clas_train = clas_train.reshape(-1, 1)\n",
    "light_test = light_test.reshape(-1, 1)"
   ]
  },
  {
   "cell_type": "code",
   "execution_count": null,
   "metadata": {},
   "outputs": [],
   "source": [
    "print(make_knn_prediction(7, light_train, clas_train, light_test))\n",
    "print(clas_test)"
   ]
  },
  {
   "cell_type": "code",
   "execution_count": null,
   "metadata": {},
   "outputs": [],
   "source": [
    "accuracy_test(150, light_train, clas_train, light_test, clas_test)"
   ]
  },
  {
   "cell_type": "code",
   "execution_count": null,
   "metadata": {},
   "outputs": [],
   "source": [
    "accuracy_test(150,sat_train,clas_train,sat_test,clas_test)"
   ]
  },
  {
   "attachments": {},
   "cell_type": "markdown",
   "metadata": {},
   "source": [
    "Now we compare the accuracy scores"
   ]
  },
  {
   "cell_type": "code",
   "execution_count": null,
   "metadata": {},
   "outputs": [],
   "source": [
    "print(accuracy_test(150, light_train, clas_train, light_test, clas_test) - accuracy_test(150,sat_train,clas_train,sat_test,clas_test))"
   ]
  },
  {
   "attachments": {},
   "cell_type": "markdown",
   "metadata": {},
   "source": [
    "From this analysis we can conclude (if there are no flaws in our implementation) that the lightness variation is slighty more precise than the saturation variation. Though this conclusion raises other questions:\n",
    "Is the very small difference significant? Can it affect the results of the model in any way considering the large input of photos?\n",
    "\n"
   ]
  }
 ],
 "metadata": {
  "interpreter": {
   "hash": "f1ab961a3fa3e20e04328618952e988783766c9af03f1098ea8cd69f197f87b8"
  },
  "kernelspec": {
   "display_name": "Python 3.9.7 ('base')",
   "language": "python",
   "name": "python3"
  },
  "language_info": {
   "codemirror_mode": {
    "name": "ipython",
    "version": 3
   },
   "file_extension": ".py",
   "mimetype": "text/x-python",
   "name": "python",
   "nbconvert_exporter": "python",
   "pygments_lexer": "ipython3",
   "version": "3.8.8"
  },
  "orig_nbformat": 4
 },
 "nbformat": 4,
 "nbformat_minor": 2
}
