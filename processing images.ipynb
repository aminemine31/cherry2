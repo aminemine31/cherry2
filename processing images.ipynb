{
 "cells": [
  {
   "cell_type": "markdown",
   "id": "8be75046",
   "metadata": {},
   "source": [
    "### process images for coding"
   ]
  },
  {
   "cell_type": "code",
   "execution_count": 23,
   "id": "8bf30e5c",
   "metadata": {},
   "outputs": [],
   "source": [
    "import os\n",
    "import cv2\n",
    "import matplotlib.pyplot as plt"
   ]
  },
  {
   "cell_type": "code",
   "execution_count": 155,
   "id": "fb0869b1",
   "metadata": {},
   "outputs": [],
   "source": [
    "def process_img():\n",
    "\n",
    "   # zipped_list = zip(os.listdir(\"real-sample\"), os.listdir(\"real-mask\"))\n",
    "    for i,j in zip(os.listdir(\"real-sample\"), os.listdir(\"real-mask\")):\n",
    "        \n",
    "        org_im = cv2.imread(\"real-sample/\"+i)\n",
    "        org_im = cv2.cvtColor(org_im, cv2.COLOR_BGR2RGB)\n",
    "        seg_im = cv2.imread(\"real-mask/\"+j)\n",
    "        org_sh = org_im.shape[0:2]\n",
    "        \n",
    "        seg_im2= cv2.resize(seg_im, org_sh)\n",
    "        \n",
    "        im2 = org_im.copy()\n",
    "        im2[seg_im2 == 0] = 0 #[0,0,0,0]\n",
    "\n",
    "        #plt.savefig(\"processed_images/i.png\")\n",
    "# Display "
   ]
  },
  {
   "cell_type": "code",
   "execution_count": null,
   "id": "82575586",
   "metadata": {},
   "outputs": [],
   "source": []
  },
  {
   "cell_type": "code",
   "execution_count": 156,
   "id": "5a650e8a",
   "metadata": {},
   "outputs": [],
   "source": [
    "from skimage.io import imsave, imread\n"
   ]
  },
  {
   "cell_type": "code",
   "execution_count": 189,
   "id": "ffd54376",
   "metadata": {},
   "outputs": [
    {
     "name": "stdout",
     "output_type": "stream",
     "text": [
      "<class 'numpy.ndarray'>\n",
      "<class 'numpy.ndarray'>\n",
      "<class 'numpy.ndarray'>\n",
      "<class 'numpy.ndarray'>\n",
      "<class 'numpy.ndarray'>\n",
      "<class 'numpy.ndarray'>\n"
     ]
    },
    {
     "ename": "AttributeError",
     "evalue": "'NoneType' object has no attribute 'shape'",
     "output_type": "error",
     "traceback": [
      "\u001b[0;31m---------------------------------------------------------------------------\u001b[0m",
      "\u001b[0;31mAttributeError\u001b[0m                            Traceback (most recent call last)",
      "\u001b[1;32m/Users/theakaroline/Documents/GitHub/cherry2/processing images.ipynb Cell 6\u001b[0m in \u001b[0;36m<cell line: 1>\u001b[0;34m()\u001b[0m\n\u001b[1;32m      <a href='vscode-notebook-cell:/Users/theakaroline/Documents/GitHub/cherry2/processing%20images.ipynb#W5sZmlsZQ%3D%3D?line=2'>3</a>\u001b[0m org_im \u001b[39m=\u001b[39m cv2\u001b[39m.\u001b[39mimread(\u001b[39m\"\u001b[39m\u001b[39mreal-sample/\u001b[39m\u001b[39m\"\u001b[39m\u001b[39m+\u001b[39mi)\n\u001b[1;32m      <a href='vscode-notebook-cell:/Users/theakaroline/Documents/GitHub/cherry2/processing%20images.ipynb#W5sZmlsZQ%3D%3D?line=3'>4</a>\u001b[0m seg_im \u001b[39m=\u001b[39m cv2\u001b[39m.\u001b[39mimread(\u001b[39m\"\u001b[39m\u001b[39mreal-mask/\u001b[39m\u001b[39m\"\u001b[39m\u001b[39m+\u001b[39mj)\n\u001b[0;32m----> <a href='vscode-notebook-cell:/Users/theakaroline/Documents/GitHub/cherry2/processing%20images.ipynb#W5sZmlsZQ%3D%3D?line=4'>5</a>\u001b[0m org_sh \u001b[39m=\u001b[39m org_im\u001b[39m.\u001b[39;49mshape[\u001b[39m0\u001b[39m:\u001b[39m2\u001b[39m]\n\u001b[1;32m      <a href='vscode-notebook-cell:/Users/theakaroline/Documents/GitHub/cherry2/processing%20images.ipynb#W5sZmlsZQ%3D%3D?line=5'>6</a>\u001b[0m seg_im2\u001b[39m=\u001b[39m cv2\u001b[39m.\u001b[39mresize(seg_im, org_sh)\n\u001b[1;32m      <a href='vscode-notebook-cell:/Users/theakaroline/Documents/GitHub/cherry2/processing%20images.ipynb#W5sZmlsZQ%3D%3D?line=6'>7</a>\u001b[0m \u001b[39m#print(type(org_im))\u001b[39;00m\n",
      "\u001b[0;31mAttributeError\u001b[0m: 'NoneType' object has no attribute 'shape'"
     ]
    }
   ],
   "source": [
    "for i,j in zip(os.listdir(\"real-sample\"), os.listdir(\"real-mask\")):\n",
    "    \n",
    "    org_im = cv2.imread(\"real-sample/\"+i)\n",
    "    seg_im = cv2.imread(\"real-mask/\"+j)\n",
    "    org_sh = org_im.shape[0:2]\n",
    "    seg_im2= cv2.resize(seg_im, org_sh)\n",
    "    #print(type(org_im))\n",
    "\n",
    "    if org_im.shape == seg_im2.shape:\n",
    "             \n",
    "        im2 = org_im.copy()\n",
    "        im2[seg_im2 == 0] = 0 #[0,0,0,0]\n",
    "\n",
    "        #skimage.io.imsave(f\"processed_images_2/{i}\", im2)\n",
    "        imsave(f\"test/{i}.png\", im2)\n",
    "\n",
    "\n",
    "      #  plt.savefig(\"processed_images/\"+)\n",
    "\n",
    "      #  seg_im2= cv2.resize(seg_im, org_sh)\n",
    "        #print((org_im.shape, seg_im2.shape))\n",
    "        \n",
    "    \n",
    "\n",
    "\n",
    "   # im2 = org_im.copy()\n",
    "   # im2[seg_im2 == 0] = 0 #[0,0,0,0]"
   ]
  },
  {
   "cell_type": "code",
   "execution_count": 190,
   "id": "8c346b65",
   "metadata": {},
   "outputs": [
    {
     "ename": "IndexError",
     "evalue": "boolean index did not match indexed array along dimension 0; dimension is 308 but corresponding boolean dimension is 307",
     "output_type": "error",
     "traceback": [
      "\u001b[0;31m---------------------------------------------------------------------------\u001b[0m",
      "\u001b[0;31mIndexError\u001b[0m                                Traceback (most recent call last)",
      "\u001b[1;32m/Users/theakaroline/Documents/GitHub/cherry2/processing images.ipynb Cell 7\u001b[0m in \u001b[0;36m<cell line: 1>\u001b[0;34m()\u001b[0m\n\u001b[0;32m----> <a href='vscode-notebook-cell:/Users/theakaroline/Documents/GitHub/cherry2/processing%20images.ipynb#W2sZmlsZQ%3D%3D?line=0'>1</a>\u001b[0m process_img()\n",
      "\u001b[1;32m/Users/theakaroline/Documents/GitHub/cherry2/processing images.ipynb Cell 7\u001b[0m in \u001b[0;36mprocess_img\u001b[0;34m()\u001b[0m\n\u001b[1;32m     <a href='vscode-notebook-cell:/Users/theakaroline/Documents/GitHub/cherry2/processing%20images.ipynb#W2sZmlsZQ%3D%3D?line=10'>11</a>\u001b[0m seg_im2\u001b[39m=\u001b[39m cv2\u001b[39m.\u001b[39mresize(seg_im, org_sh)\n\u001b[1;32m     <a href='vscode-notebook-cell:/Users/theakaroline/Documents/GitHub/cherry2/processing%20images.ipynb#W2sZmlsZQ%3D%3D?line=12'>13</a>\u001b[0m im2 \u001b[39m=\u001b[39m org_im\u001b[39m.\u001b[39mcopy()\n\u001b[0;32m---> <a href='vscode-notebook-cell:/Users/theakaroline/Documents/GitHub/cherry2/processing%20images.ipynb#W2sZmlsZQ%3D%3D?line=13'>14</a>\u001b[0m im2[seg_im2 \u001b[39m==\u001b[39m \u001b[39m0\u001b[39m] \u001b[39m=\u001b[39m \u001b[39m0\u001b[39m\n",
      "\u001b[0;31mIndexError\u001b[0m: boolean index did not match indexed array along dimension 0; dimension is 308 but corresponding boolean dimension is 307"
     ]
    }
   ],
   "source": [
    "process_img()"
   ]
  },
  {
   "cell_type": "code",
   "execution_count": 194,
   "id": "331751ad",
   "metadata": {},
   "outputs": [
    {
     "ename": "AttributeError",
     "evalue": "'NoneType' object has no attribute 'dtype'",
     "output_type": "error",
     "traceback": [
      "\u001b[0;31m---------------------------------------------------------------------------\u001b[0m",
      "\u001b[0;31mAttributeError\u001b[0m                            Traceback (most recent call last)",
      "\u001b[1;32m/Users/theakaroline/Documents/GitHub/cherry2/processing images.ipynb Cell 8\u001b[0m in \u001b[0;36m<cell line: 4>\u001b[0;34m()\u001b[0m\n\u001b[1;32m      <a href='vscode-notebook-cell:/Users/theakaroline/Documents/GitHub/cherry2/processing%20images.ipynb#X14sZmlsZQ%3D%3D?line=5'>6</a>\u001b[0m image \u001b[39m=\u001b[39m cv2\u001b[39m.\u001b[39mimread(filepath)\n\u001b[1;32m      <a href='vscode-notebook-cell:/Users/theakaroline/Documents/GitHub/cherry2/processing%20images.ipynb#X14sZmlsZQ%3D%3D?line=7'>8</a>\u001b[0m output_filepath \u001b[39m=\u001b[39m os\u001b[39m.\u001b[39mpath\u001b[39m.\u001b[39mjoin(output_folder, filename)\n\u001b[0;32m----> <a href='vscode-notebook-cell:/Users/theakaroline/Documents/GitHub/cherry2/processing%20images.ipynb#X14sZmlsZQ%3D%3D?line=8'>9</a>\u001b[0m skimage\u001b[39m.\u001b[39;49mio\u001b[39m.\u001b[39;49mimsave(output_filepath, image)\n",
      "File \u001b[0;32m~/opt/anaconda3/lib/python3.9/site-packages/skimage/io/_io.py:136\u001b[0m, in \u001b[0;36mimsave\u001b[0;34m(fname, arr, plugin, check_contrast, **plugin_args)\u001b[0m\n\u001b[1;32m    134\u001b[0m     \u001b[39mif\u001b[39;00m fname\u001b[39m.\u001b[39mlower()\u001b[39m.\u001b[39mendswith((\u001b[39m'\u001b[39m\u001b[39m.tiff\u001b[39m\u001b[39m'\u001b[39m, \u001b[39m'\u001b[39m\u001b[39m.tif\u001b[39m\u001b[39m'\u001b[39m)):\n\u001b[1;32m    135\u001b[0m         plugin \u001b[39m=\u001b[39m \u001b[39m'\u001b[39m\u001b[39mtifffile\u001b[39m\u001b[39m'\u001b[39m\n\u001b[0;32m--> 136\u001b[0m \u001b[39mif\u001b[39;00m arr\u001b[39m.\u001b[39;49mdtype \u001b[39m==\u001b[39m \u001b[39mbool\u001b[39m:\n\u001b[1;32m    137\u001b[0m     warn(\u001b[39m'\u001b[39m\u001b[39m%s\u001b[39;00m\u001b[39m is a boolean image: setting True to 255 and False to 0. \u001b[39m\u001b[39m'\u001b[39m\n\u001b[1;32m    138\u001b[0m          \u001b[39m'\u001b[39m\u001b[39mTo silence this warning, please convert the image using \u001b[39m\u001b[39m'\u001b[39m\n\u001b[1;32m    139\u001b[0m          \u001b[39m'\u001b[39m\u001b[39mimg_as_ubyte.\u001b[39m\u001b[39m'\u001b[39m \u001b[39m%\u001b[39m fname, stacklevel\u001b[39m=\u001b[39m\u001b[39m2\u001b[39m)\n\u001b[1;32m    140\u001b[0m     arr \u001b[39m=\u001b[39m arr\u001b[39m.\u001b[39mastype(\u001b[39m'\u001b[39m\u001b[39muint8\u001b[39m\u001b[39m'\u001b[39m) \u001b[39m*\u001b[39m \u001b[39m255\u001b[39m\n",
      "\u001b[0;31mAttributeError\u001b[0m: 'NoneType' object has no attribute 'dtype'"
     ]
    }
   ],
   "source": [
    "input_folder = 'Masks'\n",
    "output_folder = 'test'\n",
    "\n",
    "for filename in os.listdir(input_folder):\n",
    "    filepath = os.path.join(input_folder, filename)\n",
    "    image = cv2.imread(filepath)\n",
    "\n",
    "    output_filepath = os.path.join(output_folder, filename)\n",
    "    skimage.io.imsave(output_filepath, image)\n",
    "    "
   ]
  },
  {
   "cell_type": "code",
   "execution_count": null,
   "id": "5f84b664",
   "metadata": {},
   "outputs": [],
   "source": []
  }
 ],
 "metadata": {
  "kernelspec": {
   "display_name": "Python 3 (ipykernel)",
   "language": "python",
   "name": "python3"
  },
  "language_info": {
   "codemirror_mode": {
    "name": "ipython",
    "version": 3
   },
   "file_extension": ".py",
   "mimetype": "text/x-python",
   "name": "python",
   "nbconvert_exporter": "python",
   "pygments_lexer": "ipython3",
   "version": "3.9.12"
  }
 },
 "nbformat": 4,
 "nbformat_minor": 5
}
