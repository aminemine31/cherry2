{
 "cells": [
  {
   "cell_type": "markdown",
   "id": "8be75046",
   "metadata": {},
   "source": [
    "### process images for coding"
   ]
  },
  {
   "cell_type": "code",
   "execution_count": null,
   "id": "fb0869b1",
   "metadata": {},
   "outputs": [],
   "source": [
    "def process_img():\n",
    "\n",
    "    for i,j in zip(os.listdir(\"real-sample\"), os.listdir(\"real-mask\"):\n",
    "        org_im = cv2.imread(i)\n",
    "        seg_im = cv2.imread(j)\n",
    "\n",
    "        im2 = org_im.copy()\n",
    "        im2[seg_im== 0] = 0 #[0,0,0,0]\n",
    "\n",
    "        plt.savefig(\"processed_images/i.png\")\n",
    "# Display "
   ]
  }
 ],
 "metadata": {
  "kernelspec": {
   "display_name": "Python 3 (ipykernel)",
   "language": "python",
   "name": "python3"
  },
  "language_info": {
   "codemirror_mode": {
    "name": "ipython",
    "version": 3
   },
   "file_extension": ".py",
   "mimetype": "text/x-python",
   "name": "python",
   "nbconvert_exporter": "python",
   "pygments_lexer": "ipython3",
   "version": "3.9.12"
  }
 },
 "nbformat": 4,
 "nbformat_minor": 5
}
